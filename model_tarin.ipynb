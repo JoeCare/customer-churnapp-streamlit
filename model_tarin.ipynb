{
 "cells": [
  {
   "cell_type": "markdown",
   "metadata": {
    "toc": true
   },
   "source": [
    "<h1>Table of Contents<span class=\"tocSkip\"></span></h1>\n",
    "<div class=\"toc\"><ul class=\"toc-item\"><li><span><a href=\"#Import-Libraries-and-data\" data-toc-modified-id=\"Import-Libraries-and-data-1\"><span class=\"toc-item-num\">1&nbsp;&nbsp;</span>Import Libraries and data</a></span></li><li><span><a href=\"#Exploratory-Data-Analysis\" data-toc-modified-id=\"Exploratory-Data-Analysis-2\"><span class=\"toc-item-num\">2&nbsp;&nbsp;</span>Exploratory Data Analysis</a></span></li><li><span><a href=\"#Model-Training\" data-toc-modified-id=\"Model-Training-3\"><span class=\"toc-item-num\">3&nbsp;&nbsp;</span>Model Training</a></span></li><li><span><a href=\"#Selecting-Best-model\" data-toc-modified-id=\"Selecting-Best-model-4\"><span class=\"toc-item-num\">4&nbsp;&nbsp;</span>Selecting Best model</a></span></li><li><span><a href=\"#Finalizing-and-Saving-Model\" data-toc-modified-id=\"Finalizing-and-Saving-Model-5\"><span class=\"toc-item-num\">5&nbsp;&nbsp;</span>Finalizing and Saving Model</a></span></li></ul></div>"
   ]
  },
  {
   "cell_type": "markdown",
   "metadata": {},
   "source": [
    "## Import Libraries and data"
   ]
  },
  {
   "cell_type": "code",
   "execution_count": 1,
   "metadata": {},
   "outputs": [],
   "source": [
    "import pandas as pd\n",
    "# For visualization\n",
    "import matplotlib.pyplot as plt\n",
    "%matplotlib inline\n",
    "import seaborn as sns\n",
    "pd.options.display.max_rows = None\n",
    "pd.options.display.max_columns = None"
   ]
  },
  {
   "cell_type": "code",
   "execution_count": 2,
   "metadata": {},
   "outputs": [],
   "source": [
    "train = pd.read_csv(\"data/train.csv\")\n",
    "test = pd.read_csv(\"data/test.csv\")"
   ]
  },
  {
   "cell_type": "markdown",
   "metadata": {},
   "source": [
    "## Exploratory Data Analysis"
   ]
  },
  {
   "cell_type": "code",
   "execution_count": 3,
   "metadata": {},
   "outputs": [
    {
     "data": {
      "text/plain": [
       "(4250, 20)"
      ]
     },
     "execution_count": 3,
     "metadata": {},
     "output_type": "execute_result"
    }
   ],
   "source": [
    "train.shape"
   ]
  },
  {
   "cell_type": "code",
   "execution_count": 4,
   "metadata": {},
   "outputs": [
    {
     "data": {
      "text/html": [
       "<div>\n",
       "<style scoped>\n",
       "    .dataframe tbody tr th:only-of-type {\n",
       "        vertical-align: middle;\n",
       "    }\n",
       "\n",
       "    .dataframe tbody tr th {\n",
       "        vertical-align: top;\n",
       "    }\n",
       "\n",
       "    .dataframe thead th {\n",
       "        text-align: right;\n",
       "    }\n",
       "</style>\n",
       "<table border=\"1\" class=\"dataframe\">\n",
       "  <thead>\n",
       "    <tr style=\"text-align: right;\">\n",
       "      <th></th>\n",
       "      <th>state</th>\n",
       "      <th>account_length</th>\n",
       "      <th>area_code</th>\n",
       "      <th>international_plan</th>\n",
       "      <th>voice_mail_plan</th>\n",
       "      <th>number_vmail_messages</th>\n",
       "      <th>total_day_minutes</th>\n",
       "      <th>total_day_calls</th>\n",
       "      <th>total_day_charge</th>\n",
       "      <th>total_eve_minutes</th>\n",
       "      <th>total_eve_calls</th>\n",
       "      <th>total_eve_charge</th>\n",
       "      <th>total_night_minutes</th>\n",
       "      <th>total_night_calls</th>\n",
       "      <th>total_night_charge</th>\n",
       "      <th>total_intl_minutes</th>\n",
       "      <th>total_intl_calls</th>\n",
       "      <th>total_intl_charge</th>\n",
       "      <th>number_customer_service_calls</th>\n",
       "      <th>churn</th>\n",
       "    </tr>\n",
       "  </thead>\n",
       "  <tbody>\n",
       "    <tr>\n",
       "      <th>0</th>\n",
       "      <td>OH</td>\n",
       "      <td>107</td>\n",
       "      <td>area_code_415</td>\n",
       "      <td>no</td>\n",
       "      <td>yes</td>\n",
       "      <td>26</td>\n",
       "      <td>161.6</td>\n",
       "      <td>123</td>\n",
       "      <td>27.47</td>\n",
       "      <td>195.5</td>\n",
       "      <td>103</td>\n",
       "      <td>16.62</td>\n",
       "      <td>254.4</td>\n",
       "      <td>103</td>\n",
       "      <td>11.45</td>\n",
       "      <td>13.7</td>\n",
       "      <td>3</td>\n",
       "      <td>3.70</td>\n",
       "      <td>1</td>\n",
       "      <td>no</td>\n",
       "    </tr>\n",
       "    <tr>\n",
       "      <th>1</th>\n",
       "      <td>NJ</td>\n",
       "      <td>137</td>\n",
       "      <td>area_code_415</td>\n",
       "      <td>no</td>\n",
       "      <td>no</td>\n",
       "      <td>0</td>\n",
       "      <td>243.4</td>\n",
       "      <td>114</td>\n",
       "      <td>41.38</td>\n",
       "      <td>121.2</td>\n",
       "      <td>110</td>\n",
       "      <td>10.30</td>\n",
       "      <td>162.6</td>\n",
       "      <td>104</td>\n",
       "      <td>7.32</td>\n",
       "      <td>12.2</td>\n",
       "      <td>5</td>\n",
       "      <td>3.29</td>\n",
       "      <td>0</td>\n",
       "      <td>no</td>\n",
       "    </tr>\n",
       "    <tr>\n",
       "      <th>2</th>\n",
       "      <td>OH</td>\n",
       "      <td>84</td>\n",
       "      <td>area_code_408</td>\n",
       "      <td>yes</td>\n",
       "      <td>no</td>\n",
       "      <td>0</td>\n",
       "      <td>299.4</td>\n",
       "      <td>71</td>\n",
       "      <td>50.90</td>\n",
       "      <td>61.9</td>\n",
       "      <td>88</td>\n",
       "      <td>5.26</td>\n",
       "      <td>196.9</td>\n",
       "      <td>89</td>\n",
       "      <td>8.86</td>\n",
       "      <td>6.6</td>\n",
       "      <td>7</td>\n",
       "      <td>1.78</td>\n",
       "      <td>2</td>\n",
       "      <td>no</td>\n",
       "    </tr>\n",
       "    <tr>\n",
       "      <th>3</th>\n",
       "      <td>OK</td>\n",
       "      <td>75</td>\n",
       "      <td>area_code_415</td>\n",
       "      <td>yes</td>\n",
       "      <td>no</td>\n",
       "      <td>0</td>\n",
       "      <td>166.7</td>\n",
       "      <td>113</td>\n",
       "      <td>28.34</td>\n",
       "      <td>148.3</td>\n",
       "      <td>122</td>\n",
       "      <td>12.61</td>\n",
       "      <td>186.9</td>\n",
       "      <td>121</td>\n",
       "      <td>8.41</td>\n",
       "      <td>10.1</td>\n",
       "      <td>3</td>\n",
       "      <td>2.73</td>\n",
       "      <td>3</td>\n",
       "      <td>no</td>\n",
       "    </tr>\n",
       "    <tr>\n",
       "      <th>4</th>\n",
       "      <td>MA</td>\n",
       "      <td>121</td>\n",
       "      <td>area_code_510</td>\n",
       "      <td>no</td>\n",
       "      <td>yes</td>\n",
       "      <td>24</td>\n",
       "      <td>218.2</td>\n",
       "      <td>88</td>\n",
       "      <td>37.09</td>\n",
       "      <td>348.5</td>\n",
       "      <td>108</td>\n",
       "      <td>29.62</td>\n",
       "      <td>212.6</td>\n",
       "      <td>118</td>\n",
       "      <td>9.57</td>\n",
       "      <td>7.5</td>\n",
       "      <td>7</td>\n",
       "      <td>2.03</td>\n",
       "      <td>3</td>\n",
       "      <td>no</td>\n",
       "    </tr>\n",
       "  </tbody>\n",
       "</table>\n",
       "</div>"
      ],
      "text/plain": [
       "  state  account_length      area_code international_plan voice_mail_plan  \\\n",
       "0    OH             107  area_code_415                 no             yes   \n",
       "1    NJ             137  area_code_415                 no              no   \n",
       "2    OH              84  area_code_408                yes              no   \n",
       "3    OK              75  area_code_415                yes              no   \n",
       "4    MA             121  area_code_510                 no             yes   \n",
       "\n",
       "   number_vmail_messages  total_day_minutes  total_day_calls  \\\n",
       "0                     26              161.6              123   \n",
       "1                      0              243.4              114   \n",
       "2                      0              299.4               71   \n",
       "3                      0              166.7              113   \n",
       "4                     24              218.2               88   \n",
       "\n",
       "   total_day_charge  total_eve_minutes  total_eve_calls  total_eve_charge  \\\n",
       "0             27.47              195.5              103             16.62   \n",
       "1             41.38              121.2              110             10.30   \n",
       "2             50.90               61.9               88              5.26   \n",
       "3             28.34              148.3              122             12.61   \n",
       "4             37.09              348.5              108             29.62   \n",
       "\n",
       "   total_night_minutes  total_night_calls  total_night_charge  \\\n",
       "0                254.4                103               11.45   \n",
       "1                162.6                104                7.32   \n",
       "2                196.9                 89                8.86   \n",
       "3                186.9                121                8.41   \n",
       "4                212.6                118                9.57   \n",
       "\n",
       "   total_intl_minutes  total_intl_calls  total_intl_charge  \\\n",
       "0                13.7                 3               3.70   \n",
       "1                12.2                 5               3.29   \n",
       "2                 6.6                 7               1.78   \n",
       "3                10.1                 3               2.73   \n",
       "4                 7.5                 7               2.03   \n",
       "\n",
       "   number_customer_service_calls churn  \n",
       "0                              1    no  \n",
       "1                              0    no  \n",
       "2                              2    no  \n",
       "3                              3    no  \n",
       "4                              3    no  "
      ]
     },
     "execution_count": 4,
     "metadata": {},
     "output_type": "execute_result"
    }
   ],
   "source": [
    "train.head()"
   ]
  },
  {
   "cell_type": "code",
   "execution_count": 5,
   "metadata": {},
   "outputs": [
    {
     "data": {
      "text/plain": [
       "state                            0\n",
       "account_length                   0\n",
       "area_code                        0\n",
       "international_plan               0\n",
       "voice_mail_plan                  0\n",
       "number_vmail_messages            0\n",
       "total_day_minutes                0\n",
       "total_day_calls                  0\n",
       "total_day_charge                 0\n",
       "total_eve_minutes                0\n",
       "total_eve_calls                  0\n",
       "total_eve_charge                 0\n",
       "total_night_minutes              0\n",
       "total_night_calls                0\n",
       "total_night_charge               0\n",
       "total_intl_minutes               0\n",
       "total_intl_calls                 0\n",
       "total_intl_charge                0\n",
       "number_customer_service_calls    0\n",
       "churn                            0\n",
       "dtype: int64"
      ]
     },
     "execution_count": 5,
     "metadata": {},
     "output_type": "execute_result"
    }
   ],
   "source": [
    "# Check columns list and missing values\n",
    "train.isnull().sum()"
   ]
  },
  {
   "cell_type": "code",
   "execution_count": 6,
   "metadata": {},
   "outputs": [
    {
     "data": {
      "text/plain": [
       "state                             object\n",
       "account_length                     int64\n",
       "area_code                         object\n",
       "international_plan                object\n",
       "voice_mail_plan                   object\n",
       "number_vmail_messages              int64\n",
       "total_day_minutes                float64\n",
       "total_day_calls                    int64\n",
       "total_day_charge                 float64\n",
       "total_eve_minutes                float64\n",
       "total_eve_calls                    int64\n",
       "total_eve_charge                 float64\n",
       "total_night_minutes              float64\n",
       "total_night_calls                  int64\n",
       "total_night_charge               float64\n",
       "total_intl_minutes               float64\n",
       "total_intl_calls                   int64\n",
       "total_intl_charge                float64\n",
       "number_customer_service_calls      int64\n",
       "churn                             object\n",
       "dtype: object"
      ]
     },
     "execution_count": 6,
     "metadata": {},
     "output_type": "execute_result"
    }
   ],
   "source": [
    "train.dtypes"
   ]
  },
  {
   "cell_type": "code",
   "execution_count": 7,
   "metadata": {},
   "outputs": [
    {
     "data": {
      "text/html": [
       "<div>\n",
       "<style scoped>\n",
       "    .dataframe tbody tr th:only-of-type {\n",
       "        vertical-align: middle;\n",
       "    }\n",
       "\n",
       "    .dataframe tbody tr th {\n",
       "        vertical-align: top;\n",
       "    }\n",
       "\n",
       "    .dataframe thead th {\n",
       "        text-align: right;\n",
       "    }\n",
       "</style>\n",
       "<table border=\"1\" class=\"dataframe\">\n",
       "  <thead>\n",
       "    <tr style=\"text-align: right;\">\n",
       "      <th></th>\n",
       "      <th>state</th>\n",
       "      <th>area_code</th>\n",
       "      <th>international_plan</th>\n",
       "      <th>voice_mail_plan</th>\n",
       "      <th>churn</th>\n",
       "    </tr>\n",
       "  </thead>\n",
       "  <tbody>\n",
       "    <tr>\n",
       "      <th>count</th>\n",
       "      <td>4250</td>\n",
       "      <td>4250</td>\n",
       "      <td>4250</td>\n",
       "      <td>4250</td>\n",
       "      <td>4250</td>\n",
       "    </tr>\n",
       "    <tr>\n",
       "      <th>unique</th>\n",
       "      <td>51</td>\n",
       "      <td>3</td>\n",
       "      <td>2</td>\n",
       "      <td>2</td>\n",
       "      <td>2</td>\n",
       "    </tr>\n",
       "    <tr>\n",
       "      <th>top</th>\n",
       "      <td>WV</td>\n",
       "      <td>area_code_415</td>\n",
       "      <td>no</td>\n",
       "      <td>no</td>\n",
       "      <td>no</td>\n",
       "    </tr>\n",
       "    <tr>\n",
       "      <th>freq</th>\n",
       "      <td>139</td>\n",
       "      <td>2108</td>\n",
       "      <td>3854</td>\n",
       "      <td>3138</td>\n",
       "      <td>3652</td>\n",
       "    </tr>\n",
       "  </tbody>\n",
       "</table>\n",
       "</div>"
      ],
      "text/plain": [
       "       state      area_code international_plan voice_mail_plan churn\n",
       "count   4250           4250               4250            4250  4250\n",
       "unique    51              3                  2               2     2\n",
       "top       WV  area_code_415                 no              no    no\n",
       "freq     139           2108               3854            3138  3652"
      ]
     },
     "execution_count": 7,
     "metadata": {},
     "output_type": "execute_result"
    }
   ],
   "source": [
    "train.describe(include =['object'])"
   ]
  },
  {
   "cell_type": "code",
   "execution_count": 8,
   "metadata": {},
   "outputs": [
    {
     "data": {
      "text/html": [
       "<div>\n",
       "<style scoped>\n",
       "    .dataframe tbody tr th:only-of-type {\n",
       "        vertical-align: middle;\n",
       "    }\n",
       "\n",
       "    .dataframe tbody tr th {\n",
       "        vertical-align: top;\n",
       "    }\n",
       "\n",
       "    .dataframe thead th {\n",
       "        text-align: right;\n",
       "    }\n",
       "</style>\n",
       "<table border=\"1\" class=\"dataframe\">\n",
       "  <thead>\n",
       "    <tr style=\"text-align: right;\">\n",
       "      <th></th>\n",
       "      <th>account_length</th>\n",
       "      <th>number_vmail_messages</th>\n",
       "      <th>total_day_minutes</th>\n",
       "      <th>total_day_calls</th>\n",
       "      <th>total_day_charge</th>\n",
       "      <th>total_eve_minutes</th>\n",
       "      <th>total_eve_calls</th>\n",
       "      <th>total_eve_charge</th>\n",
       "      <th>total_night_minutes</th>\n",
       "      <th>total_night_calls</th>\n",
       "      <th>total_night_charge</th>\n",
       "      <th>total_intl_minutes</th>\n",
       "      <th>total_intl_calls</th>\n",
       "      <th>total_intl_charge</th>\n",
       "      <th>number_customer_service_calls</th>\n",
       "    </tr>\n",
       "  </thead>\n",
       "  <tbody>\n",
       "    <tr>\n",
       "      <th>count</th>\n",
       "      <td>4250.000000</td>\n",
       "      <td>4250.000000</td>\n",
       "      <td>4250.000000</td>\n",
       "      <td>4250.000000</td>\n",
       "      <td>4250.000000</td>\n",
       "      <td>4250.000000</td>\n",
       "      <td>4250.000000</td>\n",
       "      <td>4250.000000</td>\n",
       "      <td>4250.000000</td>\n",
       "      <td>4250.000000</td>\n",
       "      <td>4250.000000</td>\n",
       "      <td>4250.000000</td>\n",
       "      <td>4250.000000</td>\n",
       "      <td>4250.000000</td>\n",
       "      <td>4250.000000</td>\n",
       "    </tr>\n",
       "    <tr>\n",
       "      <th>mean</th>\n",
       "      <td>100.236235</td>\n",
       "      <td>7.631765</td>\n",
       "      <td>180.259600</td>\n",
       "      <td>99.907294</td>\n",
       "      <td>30.644682</td>\n",
       "      <td>200.173906</td>\n",
       "      <td>100.176471</td>\n",
       "      <td>17.015012</td>\n",
       "      <td>200.527882</td>\n",
       "      <td>99.839529</td>\n",
       "      <td>9.023892</td>\n",
       "      <td>10.256071</td>\n",
       "      <td>4.426353</td>\n",
       "      <td>2.769654</td>\n",
       "      <td>1.559059</td>\n",
       "    </tr>\n",
       "    <tr>\n",
       "      <th>std</th>\n",
       "      <td>39.698401</td>\n",
       "      <td>13.439882</td>\n",
       "      <td>54.012373</td>\n",
       "      <td>19.850817</td>\n",
       "      <td>9.182096</td>\n",
       "      <td>50.249518</td>\n",
       "      <td>19.908591</td>\n",
       "      <td>4.271212</td>\n",
       "      <td>50.353548</td>\n",
       "      <td>20.093220</td>\n",
       "      <td>2.265922</td>\n",
       "      <td>2.760102</td>\n",
       "      <td>2.463069</td>\n",
       "      <td>0.745204</td>\n",
       "      <td>1.311434</td>\n",
       "    </tr>\n",
       "    <tr>\n",
       "      <th>min</th>\n",
       "      <td>1.000000</td>\n",
       "      <td>0.000000</td>\n",
       "      <td>0.000000</td>\n",
       "      <td>0.000000</td>\n",
       "      <td>0.000000</td>\n",
       "      <td>0.000000</td>\n",
       "      <td>0.000000</td>\n",
       "      <td>0.000000</td>\n",
       "      <td>0.000000</td>\n",
       "      <td>0.000000</td>\n",
       "      <td>0.000000</td>\n",
       "      <td>0.000000</td>\n",
       "      <td>0.000000</td>\n",
       "      <td>0.000000</td>\n",
       "      <td>0.000000</td>\n",
       "    </tr>\n",
       "    <tr>\n",
       "      <th>25%</th>\n",
       "      <td>73.000000</td>\n",
       "      <td>0.000000</td>\n",
       "      <td>143.325000</td>\n",
       "      <td>87.000000</td>\n",
       "      <td>24.365000</td>\n",
       "      <td>165.925000</td>\n",
       "      <td>87.000000</td>\n",
       "      <td>14.102500</td>\n",
       "      <td>167.225000</td>\n",
       "      <td>86.000000</td>\n",
       "      <td>7.522500</td>\n",
       "      <td>8.500000</td>\n",
       "      <td>3.000000</td>\n",
       "      <td>2.300000</td>\n",
       "      <td>1.000000</td>\n",
       "    </tr>\n",
       "    <tr>\n",
       "      <th>50%</th>\n",
       "      <td>100.000000</td>\n",
       "      <td>0.000000</td>\n",
       "      <td>180.450000</td>\n",
       "      <td>100.000000</td>\n",
       "      <td>30.680000</td>\n",
       "      <td>200.700000</td>\n",
       "      <td>100.000000</td>\n",
       "      <td>17.060000</td>\n",
       "      <td>200.450000</td>\n",
       "      <td>100.000000</td>\n",
       "      <td>9.020000</td>\n",
       "      <td>10.300000</td>\n",
       "      <td>4.000000</td>\n",
       "      <td>2.780000</td>\n",
       "      <td>1.000000</td>\n",
       "    </tr>\n",
       "    <tr>\n",
       "      <th>75%</th>\n",
       "      <td>127.000000</td>\n",
       "      <td>16.000000</td>\n",
       "      <td>216.200000</td>\n",
       "      <td>113.000000</td>\n",
       "      <td>36.750000</td>\n",
       "      <td>233.775000</td>\n",
       "      <td>114.000000</td>\n",
       "      <td>19.867500</td>\n",
       "      <td>234.700000</td>\n",
       "      <td>113.000000</td>\n",
       "      <td>10.560000</td>\n",
       "      <td>12.000000</td>\n",
       "      <td>6.000000</td>\n",
       "      <td>3.240000</td>\n",
       "      <td>2.000000</td>\n",
       "    </tr>\n",
       "    <tr>\n",
       "      <th>max</th>\n",
       "      <td>243.000000</td>\n",
       "      <td>52.000000</td>\n",
       "      <td>351.500000</td>\n",
       "      <td>165.000000</td>\n",
       "      <td>59.760000</td>\n",
       "      <td>359.300000</td>\n",
       "      <td>170.000000</td>\n",
       "      <td>30.540000</td>\n",
       "      <td>395.000000</td>\n",
       "      <td>175.000000</td>\n",
       "      <td>17.770000</td>\n",
       "      <td>20.000000</td>\n",
       "      <td>20.000000</td>\n",
       "      <td>5.400000</td>\n",
       "      <td>9.000000</td>\n",
       "    </tr>\n",
       "  </tbody>\n",
       "</table>\n",
       "</div>"
      ],
      "text/plain": [
       "       account_length  number_vmail_messages  total_day_minutes  \\\n",
       "count     4250.000000            4250.000000        4250.000000   \n",
       "mean       100.236235               7.631765         180.259600   \n",
       "std         39.698401              13.439882          54.012373   \n",
       "min          1.000000               0.000000           0.000000   \n",
       "25%         73.000000               0.000000         143.325000   \n",
       "50%        100.000000               0.000000         180.450000   \n",
       "75%        127.000000              16.000000         216.200000   \n",
       "max        243.000000              52.000000         351.500000   \n",
       "\n",
       "       total_day_calls  total_day_charge  total_eve_minutes  total_eve_calls  \\\n",
       "count      4250.000000       4250.000000        4250.000000      4250.000000   \n",
       "mean         99.907294         30.644682         200.173906       100.176471   \n",
       "std          19.850817          9.182096          50.249518        19.908591   \n",
       "min           0.000000          0.000000           0.000000         0.000000   \n",
       "25%          87.000000         24.365000         165.925000        87.000000   \n",
       "50%         100.000000         30.680000         200.700000       100.000000   \n",
       "75%         113.000000         36.750000         233.775000       114.000000   \n",
       "max         165.000000         59.760000         359.300000       170.000000   \n",
       "\n",
       "       total_eve_charge  total_night_minutes  total_night_calls  \\\n",
       "count       4250.000000          4250.000000        4250.000000   \n",
       "mean          17.015012           200.527882          99.839529   \n",
       "std            4.271212            50.353548          20.093220   \n",
       "min            0.000000             0.000000           0.000000   \n",
       "25%           14.102500           167.225000          86.000000   \n",
       "50%           17.060000           200.450000         100.000000   \n",
       "75%           19.867500           234.700000         113.000000   \n",
       "max           30.540000           395.000000         175.000000   \n",
       "\n",
       "       total_night_charge  total_intl_minutes  total_intl_calls  \\\n",
       "count         4250.000000         4250.000000       4250.000000   \n",
       "mean             9.023892           10.256071          4.426353   \n",
       "std              2.265922            2.760102          2.463069   \n",
       "min              0.000000            0.000000          0.000000   \n",
       "25%              7.522500            8.500000          3.000000   \n",
       "50%              9.020000           10.300000          4.000000   \n",
       "75%             10.560000           12.000000          6.000000   \n",
       "max             17.770000           20.000000         20.000000   \n",
       "\n",
       "       total_intl_charge  number_customer_service_calls  \n",
       "count        4250.000000                    4250.000000  \n",
       "mean            2.769654                       1.559059  \n",
       "std             0.745204                       1.311434  \n",
       "min             0.000000                       0.000000  \n",
       "25%             2.300000                       1.000000  \n",
       "50%             2.780000                       1.000000  \n",
       "75%             3.240000                       2.000000  \n",
       "max             5.400000                       9.000000  "
      ]
     },
     "execution_count": 8,
     "metadata": {},
     "output_type": "execute_result"
    }
   ],
   "source": [
    "train.describe()"
   ]
  },
  {
   "cell_type": "code",
   "execution_count": 9,
   "metadata": {},
   "outputs": [
    {
     "data": {
      "image/png": "[encoded data removed]",
      "text/plain": [
       "<Figure size 720x576 with 1 Axes>"
      ]
     },
     "metadata": {},
     "output_type": "display_data"
    }
   ],
   "source": [
    "labels = 'Churned', 'Retained'\n",
    "sizes = [train.churn[train['churn']=='yes'].count(), train.churn[train['churn']=='no'].count()]\n",
    "explode = (0, 0.1)\n",
    "fig1, ax1 = plt.subplots(figsize=(10, 8))\n",
    "ax1.pie(sizes, explode=explode, labels=labels, autopct='%1.1f%%',\n",
    "        shadow=True, startangle=90)\n",
    "ax1.axis('equal')\n",
    "plt.title(\"Proportion of customer churned and retained\", size = 20)\n",
    "plt.show()"
   ]
  },
  {
   "cell_type": "code",
   "execution_count": 10,
   "metadata": {},
   "outputs": [
    {
     "data": {
      "text/plain": [
       "<AxesSubplot:xlabel='voice_mail_plan', ylabel='count'>"
      ]
     },
     "execution_count": 10,
     "metadata": {},
     "output_type": "execute_result"
    },
    {
     "data": {
      "image/png": "[encoded data removed]",
      "text/plain": [
       "<Figure size 1440x864 with 4 Axes>"
      ]
     },
     "metadata": {
      "needs_background": "light"
     },
     "output_type": "display_data"
    }
   ],
   "source": [
    "    # We first review the 'Status' relation with categorical variables\n",
    "    fig, axarr = plt.subplots(2, 2, figsize=(20, 12))\n",
    "    sns.countplot(x='state', hue = 'churn',data = train, ax=axarr[0][0])\n",
    "    sns.countplot(x='area_code', hue = 'churn',data = train, ax=axarr[0][1])\n",
    "    sns.countplot(x='international_plan', hue = 'churn',data = train, ax=axarr[1][0])\n",
    "    sns.countplot(x='voice_mail_plan', hue = 'churn',data = train, ax=axarr[1][1])"
   ]
  },
  {
   "cell_type": "markdown",
   "metadata": {},
   "source": [
    "Add some comments !!!!!!"
   ]
  },
  {
   "cell_type": "code",
   "execution_count": 11,
   "metadata": {},
   "outputs": [
    {
     "data": {
      "text/plain": [
       "<AxesSubplot:xlabel='churn', ylabel='number_customer_service_calls'>"
      ]
     },
     "execution_count": 11,
     "metadata": {},
     "output_type": "execute_result"
    },
    {
     "data": {
      "image/png": "[encoded data removed]",
      "text/plain": [
       "<Figure size 1440x2880 with 15 Axes>"
      ]
     },
     "metadata": {
      "needs_background": "light"
     },
     "output_type": "display_data"
    }
   ],
   "source": [
    "# Relations based on the continuous data attributes\n",
    "fig, axarr = plt.subplots(5, 3, figsize=(20, 40))\n",
    "sns.boxplot(y='account_length',x = 'churn', hue = 'churn',data = train, ax=axarr[0][0])\n",
    "sns.boxplot(y='number_vmail_messages',x = 'churn', hue = 'churn',data = train , ax=axarr[0][1])\n",
    "sns.boxplot(y='total_day_minutes',x = 'churn', hue = 'churn',data = train, ax=axarr[0][2])\n",
    "sns.boxplot(y='total_day_calls',x = 'churn', hue = 'churn',data = train, ax=axarr[1][0])\n",
    "sns.boxplot(y='total_day_charge',x = 'churn', hue = 'churn',data = train, ax=axarr[1][1])\n",
    "sns.boxplot(y='total_eve_minutes',x = 'churn', hue = 'churn',data = train, ax=axarr[1][2])\n",
    "sns.boxplot(y='total_eve_calls',x = 'churn', hue = 'churn',data = train, ax=axarr[2][0])\n",
    "sns.boxplot(y='total_eve_charge',x = 'churn', hue = 'churn',data = train, ax=axarr[2][1])\n",
    "sns.boxplot(y='total_night_minutes',x = 'churn', hue = 'churn',data = train, ax=axarr[2][2])\n",
    "sns.boxplot(y='total_night_calls',x = 'churn', hue = 'churn',data = train, ax=axarr[3][0])\n",
    "sns.boxplot(y='total_night_charge',x = 'churn', hue = 'churn',data = train, ax=axarr[3][1])\n",
    "sns.boxplot(y='total_intl_minutes',x = 'churn', hue = 'churn',data = train, ax=axarr[3][2])\n",
    "sns.boxplot(y='total_intl_calls',x = 'churn', hue = 'churn',data = train, ax=axarr[4][0])\n",
    "sns.boxplot(y='total_intl_charge',x = 'churn', hue = 'churn',data = train, ax=axarr[4][1])\n",
    "sns.boxplot(y='number_customer_service_calls',x = 'churn', hue = 'churn',data = train, ax=axarr[4][2])"
   ]
  },
  {
   "cell_type": "markdown",
   "metadata": {},
   "source": [
    "Add some comments !!!!!!!!"
   ]
  },
  {
   "cell_type": "markdown",
   "metadata": {},
   "source": [
    "## Model Training"
   ]
  },
  {
   "cell_type": "code",
   "execution_count": 12,
   "metadata": {},
   "outputs": [
    {
     "name": "stdout",
     "output_type": "stream",
     "text": [
      "Setup Succesfully Completed!\n"
     ]
    },
    {
     "data": {
      "text/html": [
       "<style  type=\"text/css\" >\n",
       "#T_94eb5724_0b9e_11eb_b832_089798788ee7row15_col1,#T_94eb5724_0b9e_11eb_b832_089798788ee7row22_col1,#T_94eb5724_0b9e_11eb_b832_089798788ee7row26_col1,#T_94eb5724_0b9e_11eb_b832_089798788ee7row42_col1{\n",
       "            background-color:  lightgreen;\n",
       "        }</style><table id=\"T_94eb5724_0b9e_11eb_b832_089798788ee7\" ><thead>    <tr>        <th class=\"blank level0\" ></th>        <th class=\"col_heading level0 col0\" >Description</th>        <th class=\"col_heading level0 col1\" >Value</th>    </tr></thead><tbody>\n",
       "                <tr>\n",
       "                        <th id=\"T_94eb5724_0b9e_11eb_b832_089798788ee7level0_row0\" class=\"row_heading level0 row0\" >0</th>\n",
       "                        <td id=\"T_94eb5724_0b9e_11eb_b832_089798788ee7row0_col0\" class=\"data row0 col0\" >session_id</td>\n",
       "                        <td id=\"T_94eb5724_0b9e_11eb_b832_089798788ee7row0_col1\" class=\"data row0 col1\" >1168</td>\n",
       "            </tr>\n",
       "            <tr>\n",
       "                        <th id=\"T_94eb5724_0b9e_11eb_b832_089798788ee7level0_row1\" class=\"row_heading level0 row1\" >1</th>\n",
       "                        <td id=\"T_94eb5724_0b9e_11eb_b832_089798788ee7row1_col0\" class=\"data row1 col0\" >Target Type</td>\n",
       "                        <td id=\"T_94eb5724_0b9e_11eb_b832_089798788ee7row1_col1\" class=\"data row1 col1\" >Binary</td>\n",
       "            </tr>\n",
       "            <tr>\n",
       "                        <th id=\"T_94eb5724_0b9e_11eb_b832_089798788ee7level0_row2\" class=\"row_heading level0 row2\" >2</th>\n",
       "                        <td id=\"T_94eb5724_0b9e_11eb_b832_089798788ee7row2_col0\" class=\"data row2 col0\" >Label Encoded</td>\n",
       "                        <td id=\"T_94eb5724_0b9e_11eb_b832_089798788ee7row2_col1\" class=\"data row2 col1\" >no: 0, yes: 1</td>\n",
       "            </tr>\n",
       "            <tr>\n",
       "                        <th id=\"T_94eb5724_0b9e_11eb_b832_089798788ee7level0_row3\" class=\"row_heading level0 row3\" >3</th>\n",
       "                        <td id=\"T_94eb5724_0b9e_11eb_b832_089798788ee7row3_col0\" class=\"data row3 col0\" >Original Data</td>\n",
       "                        <td id=\"T_94eb5724_0b9e_11eb_b832_089798788ee7row3_col1\" class=\"data row3 col1\" >(4250, 20)</td>\n",
       "            </tr>\n",
       "            <tr>\n",
       "                        <th id=\"T_94eb5724_0b9e_11eb_b832_089798788ee7level0_row4\" class=\"row_heading level0 row4\" >4</th>\n",
       "                        <td id=\"T_94eb5724_0b9e_11eb_b832_089798788ee7row4_col0\" class=\"data row4 col0\" >Missing Values </td>\n",
       "                        <td id=\"T_94eb5724_0b9e_11eb_b832_089798788ee7row4_col1\" class=\"data row4 col1\" >False</td>\n",
       "            </tr>\n",
       "            <tr>\n",
       "                        <th id=\"T_94eb5724_0b9e_11eb_b832_089798788ee7level0_row5\" class=\"row_heading level0 row5\" >5</th>\n",
       "                        <td id=\"T_94eb5724_0b9e_11eb_b832_089798788ee7row5_col0\" class=\"data row5 col0\" >Numeric Features </td>\n",
       "                        <td id=\"T_94eb5724_0b9e_11eb_b832_089798788ee7row5_col1\" class=\"data row5 col1\" >14</td>\n",
       "            </tr>\n",
       "            <tr>\n",
       "                        <th id=\"T_94eb5724_0b9e_11eb_b832_089798788ee7level0_row6\" class=\"row_heading level0 row6\" >6</th>\n",
       "                        <td id=\"T_94eb5724_0b9e_11eb_b832_089798788ee7row6_col0\" class=\"data row6 col0\" >Categorical Features </td>\n",
       "                        <td id=\"T_94eb5724_0b9e_11eb_b832_089798788ee7row6_col1\" class=\"data row6 col1\" >5</td>\n",
       "            </tr>\n",
       "            <tr>\n",
       "                        <th id=\"T_94eb5724_0b9e_11eb_b832_089798788ee7level0_row7\" class=\"row_heading level0 row7\" >7</th>\n",
       "                        <td id=\"T_94eb5724_0b9e_11eb_b832_089798788ee7row7_col0\" class=\"data row7 col0\" >Ordinal Features </td>\n",
       "                        <td id=\"T_94eb5724_0b9e_11eb_b832_089798788ee7row7_col1\" class=\"data row7 col1\" >False</td>\n",
       "            </tr>\n",
       "            <tr>\n",
       "                        <th id=\"T_94eb5724_0b9e_11eb_b832_089798788ee7level0_row8\" class=\"row_heading level0 row8\" >8</th>\n",
       "                        <td id=\"T_94eb5724_0b9e_11eb_b832_089798788ee7row8_col0\" class=\"data row8 col0\" >High Cardinality Features </td>\n",
       "                        <td id=\"T_94eb5724_0b9e_11eb_b832_089798788ee7row8_col1\" class=\"data row8 col1\" >False</td>\n",
       "            </tr>\n",
       "            <tr>\n",
       "                        <th id=\"T_94eb5724_0b9e_11eb_b832_089798788ee7level0_row9\" class=\"row_heading level0 row9\" >9</th>\n",
       "                        <td id=\"T_94eb5724_0b9e_11eb_b832_089798788ee7row9_col0\" class=\"data row9 col0\" >High Cardinality Method </td>\n",
       "                        <td id=\"T_94eb5724_0b9e_11eb_b832_089798788ee7row9_col1\" class=\"data row9 col1\" >None</td>\n",
       "            </tr>\n",
       "            <tr>\n",
       "                        <th id=\"T_94eb5724_0b9e_11eb_b832_089798788ee7level0_row10\" class=\"row_heading level0 row10\" >10</th>\n",
       "                        <td id=\"T_94eb5724_0b9e_11eb_b832_089798788ee7row10_col0\" class=\"data row10 col0\" >Sampled Data</td>\n",
       "                        <td id=\"T_94eb5724_0b9e_11eb_b832_089798788ee7row10_col1\" class=\"data row10 col1\" >(4037, 20)</td>\n",
       "            </tr>\n",
       "            <tr>\n",
       "                        <th id=\"T_94eb5724_0b9e_11eb_b832_089798788ee7level0_row11\" class=\"row_heading level0 row11\" >11</th>\n",
       "                        <td id=\"T_94eb5724_0b9e_11eb_b832_089798788ee7row11_col0\" class=\"data row11 col0\" >Transformed Train Set</td>\n",
       "                        <td id=\"T_94eb5724_0b9e_11eb_b832_089798788ee7row11_col1\" class=\"data row11 col1\" >(3633, 76)</td>\n",
       "            </tr>\n",
       "            <tr>\n",
       "                        <th id=\"T_94eb5724_0b9e_11eb_b832_089798788ee7level0_row12\" class=\"row_heading level0 row12\" >12</th>\n",
       "                        <td id=\"T_94eb5724_0b9e_11eb_b832_089798788ee7row12_col0\" class=\"data row12 col0\" >Transformed Test Set</td>\n",
       "                        <td id=\"T_94eb5724_0b9e_11eb_b832_089798788ee7row12_col1\" class=\"data row12 col1\" >(404, 76)</td>\n",
       "            </tr>\n",
       "            <tr>\n",
       "                        <th id=\"T_94eb5724_0b9e_11eb_b832_089798788ee7level0_row13\" class=\"row_heading level0 row13\" >13</th>\n",
       "                        <td id=\"T_94eb5724_0b9e_11eb_b832_089798788ee7row13_col0\" class=\"data row13 col0\" >Numeric Imputer </td>\n",
       "                        <td id=\"T_94eb5724_0b9e_11eb_b832_089798788ee7row13_col1\" class=\"data row13 col1\" >median</td>\n",
       "            </tr>\n",
       "            <tr>\n",
       "                        <th id=\"T_94eb5724_0b9e_11eb_b832_089798788ee7level0_row14\" class=\"row_heading level0 row14\" >14</th>\n",
       "                        <td id=\"T_94eb5724_0b9e_11eb_b832_089798788ee7row14_col0\" class=\"data row14 col0\" >Categorical Imputer </td>\n",
       "                        <td id=\"T_94eb5724_0b9e_11eb_b832_089798788ee7row14_col1\" class=\"data row14 col1\" >mode</td>\n",
       "            </tr>\n",
       "            <tr>\n",
       "                        <th id=\"T_94eb5724_0b9e_11eb_b832_089798788ee7level0_row15\" class=\"row_heading level0 row15\" >15</th>\n",
       "                        <td id=\"T_94eb5724_0b9e_11eb_b832_089798788ee7row15_col0\" class=\"data row15 col0\" >Normalize </td>\n",
       "                        <td id=\"T_94eb5724_0b9e_11eb_b832_089798788ee7row15_col1\" class=\"data row15 col1\" >True</td>\n",
       "            </tr>\n",
       "            <tr>\n",
       "                        <th id=\"T_94eb5724_0b9e_11eb_b832_089798788ee7level0_row16\" class=\"row_heading level0 row16\" >16</th>\n",
       "                        <td id=\"T_94eb5724_0b9e_11eb_b832_089798788ee7row16_col0\" class=\"data row16 col0\" >Normalize Method </td>\n",
       "                        <td id=\"T_94eb5724_0b9e_11eb_b832_089798788ee7row16_col1\" class=\"data row16 col1\" >zscore</td>\n",
       "            </tr>\n",
       "            <tr>\n",
       "                        <th id=\"T_94eb5724_0b9e_11eb_b832_089798788ee7level0_row17\" class=\"row_heading level0 row17\" >17</th>\n",
       "                        <td id=\"T_94eb5724_0b9e_11eb_b832_089798788ee7row17_col0\" class=\"data row17 col0\" >Transformation </td>\n",
       "                        <td id=\"T_94eb5724_0b9e_11eb_b832_089798788ee7row17_col1\" class=\"data row17 col1\" >False</td>\n",
       "            </tr>\n",
       "            <tr>\n",
       "                        <th id=\"T_94eb5724_0b9e_11eb_b832_089798788ee7level0_row18\" class=\"row_heading level0 row18\" >18</th>\n",
       "                        <td id=\"T_94eb5724_0b9e_11eb_b832_089798788ee7row18_col0\" class=\"data row18 col0\" >Transformation Method </td>\n",
       "                        <td id=\"T_94eb5724_0b9e_11eb_b832_089798788ee7row18_col1\" class=\"data row18 col1\" >None</td>\n",
       "            </tr>\n",
       "            <tr>\n",
       "                        <th id=\"T_94eb5724_0b9e_11eb_b832_089798788ee7level0_row19\" class=\"row_heading level0 row19\" >19</th>\n",
       "                        <td id=\"T_94eb5724_0b9e_11eb_b832_089798788ee7row19_col0\" class=\"data row19 col0\" >PCA </td>\n",
       "                        <td id=\"T_94eb5724_0b9e_11eb_b832_089798788ee7row19_col1\" class=\"data row19 col1\" >False</td>\n",
       "            </tr>\n",
       "            <tr>\n",
       "                        <th id=\"T_94eb5724_0b9e_11eb_b832_089798788ee7level0_row20\" class=\"row_heading level0 row20\" >20</th>\n",
       "                        <td id=\"T_94eb5724_0b9e_11eb_b832_089798788ee7row20_col0\" class=\"data row20 col0\" >PCA Method </td>\n",
       "                        <td id=\"T_94eb5724_0b9e_11eb_b832_089798788ee7row20_col1\" class=\"data row20 col1\" >None</td>\n",
       "            </tr>\n",
       "            <tr>\n",
       "                        <th id=\"T_94eb5724_0b9e_11eb_b832_089798788ee7level0_row21\" class=\"row_heading level0 row21\" >21</th>\n",
       "                        <td id=\"T_94eb5724_0b9e_11eb_b832_089798788ee7row21_col0\" class=\"data row21 col0\" >PCA Components </td>\n",
       "                        <td id=\"T_94eb5724_0b9e_11eb_b832_089798788ee7row21_col1\" class=\"data row21 col1\" >None</td>\n",
       "            </tr>\n",
       "            <tr>\n",
       "                        <th id=\"T_94eb5724_0b9e_11eb_b832_089798788ee7level0_row22\" class=\"row_heading level0 row22\" >22</th>\n",
       "                        <td id=\"T_94eb5724_0b9e_11eb_b832_089798788ee7row22_col0\" class=\"data row22 col0\" >Ignore Low Variance </td>\n",
       "                        <td id=\"T_94eb5724_0b9e_11eb_b832_089798788ee7row22_col1\" class=\"data row22 col1\" >True</td>\n",
       "            </tr>\n",
       "            <tr>\n",
       "                        <th id=\"T_94eb5724_0b9e_11eb_b832_089798788ee7level0_row23\" class=\"row_heading level0 row23\" >23</th>\n",
       "                        <td id=\"T_94eb5724_0b9e_11eb_b832_089798788ee7row23_col0\" class=\"data row23 col0\" >Combine Rare Levels </td>\n",
       "                        <td id=\"T_94eb5724_0b9e_11eb_b832_089798788ee7row23_col1\" class=\"data row23 col1\" >False</td>\n",
       "            </tr>\n",
       "            <tr>\n",
       "                        <th id=\"T_94eb5724_0b9e_11eb_b832_089798788ee7level0_row24\" class=\"row_heading level0 row24\" >24</th>\n",
       "                        <td id=\"T_94eb5724_0b9e_11eb_b832_089798788ee7row24_col0\" class=\"data row24 col0\" >Rare Level Threshold </td>\n",
       "                        <td id=\"T_94eb5724_0b9e_11eb_b832_089798788ee7row24_col1\" class=\"data row24 col1\" >None</td>\n",
       "            </tr>\n",
       "            <tr>\n",
       "                        <th id=\"T_94eb5724_0b9e_11eb_b832_089798788ee7level0_row25\" class=\"row_heading level0 row25\" >25</th>\n",
       "                        <td id=\"T_94eb5724_0b9e_11eb_b832_089798788ee7row25_col0\" class=\"data row25 col0\" >Numeric Binning </td>\n",
       "                        <td id=\"T_94eb5724_0b9e_11eb_b832_089798788ee7row25_col1\" class=\"data row25 col1\" >False</td>\n",
       "            </tr>\n",
       "            <tr>\n",
       "                        <th id=\"T_94eb5724_0b9e_11eb_b832_089798788ee7level0_row26\" class=\"row_heading level0 row26\" >26</th>\n",
       "                        <td id=\"T_94eb5724_0b9e_11eb_b832_089798788ee7row26_col0\" class=\"data row26 col0\" >Remove Outliers </td>\n",
       "                        <td id=\"T_94eb5724_0b9e_11eb_b832_089798788ee7row26_col1\" class=\"data row26 col1\" >True</td>\n",
       "            </tr>\n",
       "            <tr>\n",
       "                        <th id=\"T_94eb5724_0b9e_11eb_b832_089798788ee7level0_row27\" class=\"row_heading level0 row27\" >27</th>\n",
       "                        <td id=\"T_94eb5724_0b9e_11eb_b832_089798788ee7row27_col0\" class=\"data row27 col0\" >Outliers Threshold </td>\n",
       "                        <td id=\"T_94eb5724_0b9e_11eb_b832_089798788ee7row27_col1\" class=\"data row27 col1\" >0.050000</td>\n",
       "            </tr>\n",
       "            <tr>\n",
       "                        <th id=\"T_94eb5724_0b9e_11eb_b832_089798788ee7level0_row28\" class=\"row_heading level0 row28\" >28</th>\n",
       "                        <td id=\"T_94eb5724_0b9e_11eb_b832_089798788ee7row28_col0\" class=\"data row28 col0\" >Remove Multicollinearity </td>\n",
       "                        <td id=\"T_94eb5724_0b9e_11eb_b832_089798788ee7row28_col1\" class=\"data row28 col1\" >False</td>\n",
       "            </tr>\n",
       "            <tr>\n",
       "                        <th id=\"T_94eb5724_0b9e_11eb_b832_089798788ee7level0_row29\" class=\"row_heading level0 row29\" >29</th>\n",
       "                        <td id=\"T_94eb5724_0b9e_11eb_b832_089798788ee7row29_col0\" class=\"data row29 col0\" >Multicollinearity Threshold </td>\n",
       "                        <td id=\"T_94eb5724_0b9e_11eb_b832_089798788ee7row29_col1\" class=\"data row29 col1\" >None</td>\n",
       "            </tr>\n",
       "            <tr>\n",
       "                        <th id=\"T_94eb5724_0b9e_11eb_b832_089798788ee7level0_row30\" class=\"row_heading level0 row30\" >30</th>\n",
       "                        <td id=\"T_94eb5724_0b9e_11eb_b832_089798788ee7row30_col0\" class=\"data row30 col0\" >Clustering </td>\n",
       "                        <td id=\"T_94eb5724_0b9e_11eb_b832_089798788ee7row30_col1\" class=\"data row30 col1\" >False</td>\n",
       "            </tr>\n",
       "            <tr>\n",
       "                        <th id=\"T_94eb5724_0b9e_11eb_b832_089798788ee7level0_row31\" class=\"row_heading level0 row31\" >31</th>\n",
       "                        <td id=\"T_94eb5724_0b9e_11eb_b832_089798788ee7row31_col0\" class=\"data row31 col0\" >Clustering Iteration </td>\n",
       "                        <td id=\"T_94eb5724_0b9e_11eb_b832_089798788ee7row31_col1\" class=\"data row31 col1\" >None</td>\n",
       "            </tr>\n",
       "            <tr>\n",
       "                        <th id=\"T_94eb5724_0b9e_11eb_b832_089798788ee7level0_row32\" class=\"row_heading level0 row32\" >32</th>\n",
       "                        <td id=\"T_94eb5724_0b9e_11eb_b832_089798788ee7row32_col0\" class=\"data row32 col0\" >Polynomial Features </td>\n",
       "                        <td id=\"T_94eb5724_0b9e_11eb_b832_089798788ee7row32_col1\" class=\"data row32 col1\" >False</td>\n",
       "            </tr>\n",
       "            <tr>\n",
       "                        <th id=\"T_94eb5724_0b9e_11eb_b832_089798788ee7level0_row33\" class=\"row_heading level0 row33\" >33</th>\n",
       "                        <td id=\"T_94eb5724_0b9e_11eb_b832_089798788ee7row33_col0\" class=\"data row33 col0\" >Polynomial Degree </td>\n",
       "                        <td id=\"T_94eb5724_0b9e_11eb_b832_089798788ee7row33_col1\" class=\"data row33 col1\" >None</td>\n",
       "            </tr>\n",
       "            <tr>\n",
       "                        <th id=\"T_94eb5724_0b9e_11eb_b832_089798788ee7level0_row34\" class=\"row_heading level0 row34\" >34</th>\n",
       "                        <td id=\"T_94eb5724_0b9e_11eb_b832_089798788ee7row34_col0\" class=\"data row34 col0\" >Trignometry Features </td>\n",
       "                        <td id=\"T_94eb5724_0b9e_11eb_b832_089798788ee7row34_col1\" class=\"data row34 col1\" >False</td>\n",
       "            </tr>\n",
       "            <tr>\n",
       "                        <th id=\"T_94eb5724_0b9e_11eb_b832_089798788ee7level0_row35\" class=\"row_heading level0 row35\" >35</th>\n",
       "                        <td id=\"T_94eb5724_0b9e_11eb_b832_089798788ee7row35_col0\" class=\"data row35 col0\" >Polynomial Threshold </td>\n",
       "                        <td id=\"T_94eb5724_0b9e_11eb_b832_089798788ee7row35_col1\" class=\"data row35 col1\" >None</td>\n",
       "            </tr>\n",
       "            <tr>\n",
       "                        <th id=\"T_94eb5724_0b9e_11eb_b832_089798788ee7level0_row36\" class=\"row_heading level0 row36\" >36</th>\n",
       "                        <td id=\"T_94eb5724_0b9e_11eb_b832_089798788ee7row36_col0\" class=\"data row36 col0\" >Group Features </td>\n",
       "                        <td id=\"T_94eb5724_0b9e_11eb_b832_089798788ee7row36_col1\" class=\"data row36 col1\" >False</td>\n",
       "            </tr>\n",
       "            <tr>\n",
       "                        <th id=\"T_94eb5724_0b9e_11eb_b832_089798788ee7level0_row37\" class=\"row_heading level0 row37\" >37</th>\n",
       "                        <td id=\"T_94eb5724_0b9e_11eb_b832_089798788ee7row37_col0\" class=\"data row37 col0\" >Feature Selection </td>\n",
       "                        <td id=\"T_94eb5724_0b9e_11eb_b832_089798788ee7row37_col1\" class=\"data row37 col1\" >False</td>\n",
       "            </tr>\n",
       "            <tr>\n",
       "                        <th id=\"T_94eb5724_0b9e_11eb_b832_089798788ee7level0_row38\" class=\"row_heading level0 row38\" >38</th>\n",
       "                        <td id=\"T_94eb5724_0b9e_11eb_b832_089798788ee7row38_col0\" class=\"data row38 col0\" >Features Selection Threshold </td>\n",
       "                        <td id=\"T_94eb5724_0b9e_11eb_b832_089798788ee7row38_col1\" class=\"data row38 col1\" >None</td>\n",
       "            </tr>\n",
       "            <tr>\n",
       "                        <th id=\"T_94eb5724_0b9e_11eb_b832_089798788ee7level0_row39\" class=\"row_heading level0 row39\" >39</th>\n",
       "                        <td id=\"T_94eb5724_0b9e_11eb_b832_089798788ee7row39_col0\" class=\"data row39 col0\" >Feature Interaction </td>\n",
       "                        <td id=\"T_94eb5724_0b9e_11eb_b832_089798788ee7row39_col1\" class=\"data row39 col1\" >False</td>\n",
       "            </tr>\n",
       "            <tr>\n",
       "                        <th id=\"T_94eb5724_0b9e_11eb_b832_089798788ee7level0_row40\" class=\"row_heading level0 row40\" >40</th>\n",
       "                        <td id=\"T_94eb5724_0b9e_11eb_b832_089798788ee7row40_col0\" class=\"data row40 col0\" >Feature Ratio </td>\n",
       "                        <td id=\"T_94eb5724_0b9e_11eb_b832_089798788ee7row40_col1\" class=\"data row40 col1\" >False</td>\n",
       "            </tr>\n",
       "            <tr>\n",
       "                        <th id=\"T_94eb5724_0b9e_11eb_b832_089798788ee7level0_row41\" class=\"row_heading level0 row41\" >41</th>\n",
       "                        <td id=\"T_94eb5724_0b9e_11eb_b832_089798788ee7row41_col0\" class=\"data row41 col0\" >Interaction Threshold </td>\n",
       "                        <td id=\"T_94eb5724_0b9e_11eb_b832_089798788ee7row41_col1\" class=\"data row41 col1\" >None</td>\n",
       "            </tr>\n",
       "            <tr>\n",
       "                        <th id=\"T_94eb5724_0b9e_11eb_b832_089798788ee7level0_row42\" class=\"row_heading level0 row42\" >42</th>\n",
       "                        <td id=\"T_94eb5724_0b9e_11eb_b832_089798788ee7row42_col0\" class=\"data row42 col0\" >Fix Imbalance</td>\n",
       "                        <td id=\"T_94eb5724_0b9e_11eb_b832_089798788ee7row42_col1\" class=\"data row42 col1\" >True</td>\n",
       "            </tr>\n",
       "            <tr>\n",
       "                        <th id=\"T_94eb5724_0b9e_11eb_b832_089798788ee7level0_row43\" class=\"row_heading level0 row43\" >43</th>\n",
       "                        <td id=\"T_94eb5724_0b9e_11eb_b832_089798788ee7row43_col0\" class=\"data row43 col0\" >Fix Imbalance Method</td>\n",
       "                        <td id=\"T_94eb5724_0b9e_11eb_b832_089798788ee7row43_col1\" class=\"data row43 col1\" >SMOTE</td>\n",
       "            </tr>\n",
       "    </tbody></table>"
      ],
      "text/plain": [
       "<pandas.io.formats.style.Styler at 0x2947caa2748>"
      ]
     },
     "metadata": {},
     "output_type": "display_data"
    }
   ],
   "source": [
    "from pycaret.classification import *\n",
    "setting_up = setup(data = train, target = 'churn',\n",
    "                   fix_imbalance = True,\n",
    "                   remove_outliers = True,\n",
    "                   ignore_low_variance = True,\n",
    "                   normalize = True,\n",
    "                   train_size = 0.9,\n",
    "                   log_experiment = True, \n",
    "                   experiment_name = 'churn_smote'\n",
    "                  )"
   ]
  },
  {
   "cell_type": "code",
   "execution_count": 13,
   "metadata": {},
   "outputs": [
    {
     "data": {
      "text/html": [
       "<div>\n",
       "<style scoped>\n",
       "    .dataframe tbody tr th:only-of-type {\n",
       "        vertical-align: middle;\n",
       "    }\n",
       "\n",
       "    .dataframe tbody tr th {\n",
       "        vertical-align: top;\n",
       "    }\n",
       "\n",
       "    .dataframe thead th {\n",
       "        text-align: right;\n",
       "    }\n",
       "</style>\n",
       "<table border=\"1\" class=\"dataframe\">\n",
       "  <thead>\n",
       "    <tr style=\"text-align: right;\">\n",
       "      <th></th>\n",
       "      <th>account_length</th>\n",
       "      <th>total_day_minutes</th>\n",
       "      <th>total_day_calls</th>\n",
       "      <th>total_day_charge</th>\n",
       "      <th>total_eve_minutes</th>\n",
       "      <th>total_eve_calls</th>\n",
       "      <th>total_eve_charge</th>\n",
       "      <th>total_night_minutes</th>\n",
       "      <th>total_night_calls</th>\n",
       "      <th>total_night_charge</th>\n",
       "      <th>...</th>\n",
       "      <th>international_plan_no</th>\n",
       "      <th>international_plan_yes</th>\n",
       "      <th>voice_mail_plan_no</th>\n",
       "      <th>voice_mail_plan_yes</th>\n",
       "      <th>number_customer_service_calls_0</th>\n",
       "      <th>number_customer_service_calls_1</th>\n",
       "      <th>number_customer_service_calls_2</th>\n",
       "      <th>number_customer_service_calls_3</th>\n",
       "      <th>number_customer_service_calls_4</th>\n",
       "      <th>number_customer_service_calls_5</th>\n",
       "    </tr>\n",
       "  </thead>\n",
       "  <tbody>\n",
       "    <tr>\n",
       "      <th>count</th>\n",
       "      <td>4037.000000</td>\n",
       "      <td>4037.000000</td>\n",
       "      <td>4037.000000</td>\n",
       "      <td>4037.000000</td>\n",
       "      <td>4037.000000</td>\n",
       "      <td>4037.000000</td>\n",
       "      <td>4037.000000</td>\n",
       "      <td>4037.000000</td>\n",
       "      <td>4037.000000</td>\n",
       "      <td>4037.000000</td>\n",
       "      <td>...</td>\n",
       "      <td>4037.000000</td>\n",
       "      <td>4037.000000</td>\n",
       "      <td>4037.000000</td>\n",
       "      <td>4037.000000</td>\n",
       "      <td>4037.000000</td>\n",
       "      <td>4037.000000</td>\n",
       "      <td>4037.000000</td>\n",
       "      <td>4037.000000</td>\n",
       "      <td>4037.000000</td>\n",
       "      <td>4037.000000</td>\n",
       "    </tr>\n",
       "    <tr>\n",
       "      <th>mean</th>\n",
       "      <td>-0.005483</td>\n",
       "      <td>0.007100</td>\n",
       "      <td>0.003697</td>\n",
       "      <td>0.007099</td>\n",
       "      <td>0.000586</td>\n",
       "      <td>-0.002681</td>\n",
       "      <td>0.000584</td>\n",
       "      <td>0.001446</td>\n",
       "      <td>0.008258</td>\n",
       "      <td>0.001440</td>\n",
       "      <td>...</td>\n",
       "      <td>0.914788</td>\n",
       "      <td>0.085212</td>\n",
       "      <td>0.741144</td>\n",
       "      <td>0.258856</td>\n",
       "      <td>0.214020</td>\n",
       "      <td>0.370820</td>\n",
       "      <td>0.231112</td>\n",
       "      <td>0.135497</td>\n",
       "      <td>0.046074</td>\n",
       "      <td>0.002477</td>\n",
       "    </tr>\n",
       "    <tr>\n",
       "      <th>std</th>\n",
       "      <td>0.999545</td>\n",
       "      <td>0.991381</td>\n",
       "      <td>0.991002</td>\n",
       "      <td>0.991381</td>\n",
       "      <td>0.994828</td>\n",
       "      <td>0.992585</td>\n",
       "      <td>0.994831</td>\n",
       "      <td>0.991088</td>\n",
       "      <td>0.995801</td>\n",
       "      <td>0.991086</td>\n",
       "      <td>...</td>\n",
       "      <td>0.279231</td>\n",
       "      <td>0.279231</td>\n",
       "      <td>0.438060</td>\n",
       "      <td>0.438060</td>\n",
       "      <td>0.410192</td>\n",
       "      <td>0.483084</td>\n",
       "      <td>0.421596</td>\n",
       "      <td>0.342296</td>\n",
       "      <td>0.209671</td>\n",
       "      <td>0.049715</td>\n",
       "    </tr>\n",
       "    <tr>\n",
       "      <th>min</th>\n",
       "      <td>-2.500048</td>\n",
       "      <td>-3.289626</td>\n",
       "      <td>-3.522047</td>\n",
       "      <td>-3.289906</td>\n",
       "      <td>-3.540230</td>\n",
       "      <td>-4.429587</td>\n",
       "      <td>-3.539227</td>\n",
       "      <td>-3.114901</td>\n",
       "      <td>-3.326863</td>\n",
       "      <td>-3.113400</td>\n",
       "      <td>...</td>\n",
       "      <td>0.000000</td>\n",
       "      <td>0.000000</td>\n",
       "      <td>0.000000</td>\n",
       "      <td>0.000000</td>\n",
       "      <td>0.000000</td>\n",
       "      <td>0.000000</td>\n",
       "      <td>0.000000</td>\n",
       "      <td>0.000000</td>\n",
       "      <td>0.000000</td>\n",
       "      <td>0.000000</td>\n",
       "    </tr>\n",
       "    <tr>\n",
       "      <th>25%</th>\n",
       "      <td>-0.686160</td>\n",
       "      <td>-0.676954</td>\n",
       "      <td>-0.650291</td>\n",
       "      <td>-0.676906</td>\n",
       "      <td>-0.676184</td>\n",
       "      <td>-0.661926</td>\n",
       "      <td>-0.675535</td>\n",
       "      <td>-0.655997</td>\n",
       "      <td>-0.688847</td>\n",
       "      <td>-0.654950</td>\n",
       "      <td>...</td>\n",
       "      <td>1.000000</td>\n",
       "      <td>0.000000</td>\n",
       "      <td>0.000000</td>\n",
       "      <td>0.000000</td>\n",
       "      <td>0.000000</td>\n",
       "      <td>0.000000</td>\n",
       "      <td>0.000000</td>\n",
       "      <td>0.000000</td>\n",
       "      <td>0.000000</td>\n",
       "      <td>0.000000</td>\n",
       "    </tr>\n",
       "    <tr>\n",
       "      <th>50%</th>\n",
       "      <td>-0.031144</td>\n",
       "      <td>0.010006</td>\n",
       "      <td>0.004671</td>\n",
       "      <td>0.010382</td>\n",
       "      <td>0.012461</td>\n",
       "      <td>-0.008865</td>\n",
       "      <td>0.012876</td>\n",
       "      <td>0.005405</td>\n",
       "      <td>0.007987</td>\n",
       "      <td>0.007110</td>\n",
       "      <td>...</td>\n",
       "      <td>1.000000</td>\n",
       "      <td>0.000000</td>\n",
       "      <td>1.000000</td>\n",
       "      <td>0.000000</td>\n",
       "      <td>0.000000</td>\n",
       "      <td>0.000000</td>\n",
       "      <td>0.000000</td>\n",
       "      <td>0.000000</td>\n",
       "      <td>0.000000</td>\n",
       "      <td>0.000000</td>\n",
       "    </tr>\n",
       "    <tr>\n",
       "      <th>75%</th>\n",
       "      <td>0.674257</td>\n",
       "      <td>0.671044</td>\n",
       "      <td>0.659633</td>\n",
       "      <td>0.671529</td>\n",
       "      <td>0.667271</td>\n",
       "      <td>0.644196</td>\n",
       "      <td>0.666163</td>\n",
       "      <td>0.670779</td>\n",
       "      <td>0.655048</td>\n",
       "      <td>0.669170</td>\n",
       "      <td>...</td>\n",
       "      <td>1.000000</td>\n",
       "      <td>0.000000</td>\n",
       "      <td>1.000000</td>\n",
       "      <td>1.000000</td>\n",
       "      <td>0.000000</td>\n",
       "      <td>1.000000</td>\n",
       "      <td>0.000000</td>\n",
       "      <td>0.000000</td>\n",
       "      <td>0.000000</td>\n",
       "      <td>0.000000</td>\n",
       "    </tr>\n",
       "    <tr>\n",
       "      <th>max</th>\n",
       "      <td>3.596633</td>\n",
       "      <td>3.170765</td>\n",
       "      <td>3.027572</td>\n",
       "      <td>3.171252</td>\n",
       "      <td>3.023790</td>\n",
       "      <td>3.507619</td>\n",
       "      <td>3.024085</td>\n",
       "      <td>3.862588</td>\n",
       "      <td>3.741029</td>\n",
       "      <td>3.860300</td>\n",
       "      <td>...</td>\n",
       "      <td>1.000000</td>\n",
       "      <td>1.000000</td>\n",
       "      <td>1.000000</td>\n",
       "      <td>1.000000</td>\n",
       "      <td>1.000000</td>\n",
       "      <td>1.000000</td>\n",
       "      <td>1.000000</td>\n",
       "      <td>1.000000</td>\n",
       "      <td>1.000000</td>\n",
       "      <td>1.000000</td>\n",
       "    </tr>\n",
       "  </tbody>\n",
       "</table>\n",
       "<p>8 rows × 76 columns</p>\n",
       "</div>"
      ],
      "text/plain": [
       "       account_length  total_day_minutes  total_day_calls  total_day_charge  \\\n",
       "count     4037.000000        4037.000000      4037.000000       4037.000000   \n",
       "mean        -0.005483           0.007100         0.003697          0.007099   \n",
       "std          0.999545           0.991381         0.991002          0.991381   \n",
       "min         -2.500048          -3.289626        -3.522047         -3.289906   \n",
       "25%         -0.686160          -0.676954        -0.650291         -0.676906   \n",
       "50%         -0.031144           0.010006         0.004671          0.010382   \n",
       "75%          0.674257           0.671044         0.659633          0.671529   \n",
       "max          3.596633           3.170765         3.027572          3.171252   \n",
       "\n",
       "       total_eve_minutes  total_eve_calls  total_eve_charge  \\\n",
       "count        4037.000000      4037.000000       4037.000000   \n",
       "mean            0.000586        -0.002681          0.000584   \n",
       "std             0.994828         0.992585          0.994831   \n",
       "min            -3.540230        -4.429587         -3.539227   \n",
       "25%            -0.676184        -0.661926         -0.675535   \n",
       "50%             0.012461        -0.008865          0.012876   \n",
       "75%             0.667271         0.644196          0.666163   \n",
       "max             3.023790         3.507619          3.024085   \n",
       "\n",
       "       total_night_minutes  total_night_calls  total_night_charge  ...  \\\n",
       "count          4037.000000        4037.000000         4037.000000  ...   \n",
       "mean              0.001446           0.008258            0.001440  ...   \n",
       "std               0.991088           0.995801            0.991086  ...   \n",
       "min              -3.114901          -3.326863           -3.113400  ...   \n",
       "25%              -0.655997          -0.688847           -0.654950  ...   \n",
       "50%               0.005405           0.007987            0.007110  ...   \n",
       "75%               0.670779           0.655048            0.669170  ...   \n",
       "max               3.862588           3.741029            3.860300  ...   \n",
       "\n",
       "       international_plan_no  international_plan_yes  voice_mail_plan_no  \\\n",
       "count            4037.000000             4037.000000         4037.000000   \n",
       "mean                0.914788                0.085212            0.741144   \n",
       "std                 0.279231                0.279231            0.438060   \n",
       "min                 0.000000                0.000000            0.000000   \n",
       "25%                 1.000000                0.000000            0.000000   \n",
       "50%                 1.000000                0.000000            1.000000   \n",
       "75%                 1.000000                0.000000            1.000000   \n",
       "max                 1.000000                1.000000            1.000000   \n",
       "\n",
       "       voice_mail_plan_yes  number_customer_service_calls_0  \\\n",
       "count          4037.000000                      4037.000000   \n",
       "mean              0.258856                         0.214020   \n",
       "std               0.438060                         0.410192   \n",
       "min               0.000000                         0.000000   \n",
       "25%               0.000000                         0.000000   \n",
       "50%               0.000000                         0.000000   \n",
       "75%               1.000000                         0.000000   \n",
       "max               1.000000                         1.000000   \n",
       "\n",
       "       number_customer_service_calls_1  number_customer_service_calls_2  \\\n",
       "count                      4037.000000                      4037.000000   \n",
       "mean                          0.370820                         0.231112   \n",
       "std                           0.483084                         0.421596   \n",
       "min                           0.000000                         0.000000   \n",
       "25%                           0.000000                         0.000000   \n",
       "50%                           0.000000                         0.000000   \n",
       "75%                           1.000000                         0.000000   \n",
       "max                           1.000000                         1.000000   \n",
       "\n",
       "       number_customer_service_calls_3  number_customer_service_calls_4  \\\n",
       "count                      4037.000000                      4037.000000   \n",
       "mean                          0.135497                         0.046074   \n",
       "std                           0.342296                         0.209671   \n",
       "min                           0.000000                         0.000000   \n",
       "25%                           0.000000                         0.000000   \n",
       "50%                           0.000000                         0.000000   \n",
       "75%                           0.000000                         0.000000   \n",
       "max                           1.000000                         1.000000   \n",
       "\n",
       "       number_customer_service_calls_5  \n",
       "count                      4037.000000  \n",
       "mean                          0.002477  \n",
       "std                           0.049715  \n",
       "min                           0.000000  \n",
       "25%                           0.000000  \n",
       "50%                           0.000000  \n",
       "75%                           0.000000  \n",
       "max                           1.000000  \n",
       "\n",
       "[8 rows x 76 columns]"
      ]
     },
     "execution_count": 13,
     "metadata": {},
     "output_type": "execute_result"
    }
   ],
   "source": [
    "setting_up[0].describe()"
   ]
  },
  {
   "cell_type": "code",
   "execution_count": 14,
   "metadata": {},
   "outputs": [
    {
     "data": {
      "text/html": [
       "<style  type=\"text/css\" >\n",
       "    #T_219d99b8_0b9f_11eb_94a8_089798788ee7 th {\n",
       "          text-align: left;\n",
       "    }#T_219d99b8_0b9f_11eb_94a8_089798788ee7row0_col0,#T_219d99b8_0b9f_11eb_94a8_089798788ee7row0_col3,#T_219d99b8_0b9f_11eb_94a8_089798788ee7row0_col6,#T_219d99b8_0b9f_11eb_94a8_089798788ee7row0_col7,#T_219d99b8_0b9f_11eb_94a8_089798788ee7row1_col0,#T_219d99b8_0b9f_11eb_94a8_089798788ee7row1_col3,#T_219d99b8_0b9f_11eb_94a8_089798788ee7row1_col4,#T_219d99b8_0b9f_11eb_94a8_089798788ee7row2_col0,#T_219d99b8_0b9f_11eb_94a8_089798788ee7row2_col2,#T_219d99b8_0b9f_11eb_94a8_089798788ee7row2_col3,#T_219d99b8_0b9f_11eb_94a8_089798788ee7row2_col4,#T_219d99b8_0b9f_11eb_94a8_089798788ee7row2_col7,#T_219d99b8_0b9f_11eb_94a8_089798788ee7row3_col0,#T_219d99b8_0b9f_11eb_94a8_089798788ee7row3_col1,#T_219d99b8_0b9f_11eb_94a8_089798788ee7row3_col2,#T_219d99b8_0b9f_11eb_94a8_089798788ee7row3_col3,#T_219d99b8_0b9f_11eb_94a8_089798788ee7row3_col4,#T_219d99b8_0b9f_11eb_94a8_089798788ee7row3_col5,#T_219d99b8_0b9f_11eb_94a8_089798788ee7row3_col6,#T_219d99b8_0b9f_11eb_94a8_089798788ee7row3_col7,#T_219d99b8_0b9f_11eb_94a8_089798788ee7row4_col0,#T_219d99b8_0b9f_11eb_94a8_089798788ee7row4_col1,#T_219d99b8_0b9f_11eb_94a8_089798788ee7row4_col2,#T_219d99b8_0b9f_11eb_94a8_089798788ee7row4_col3,#T_219d99b8_0b9f_11eb_94a8_089798788ee7row4_col4,#T_219d99b8_0b9f_11eb_94a8_089798788ee7row4_col5,#T_219d99b8_0b9f_11eb_94a8_089798788ee7row4_col6,#T_219d99b8_0b9f_11eb_94a8_089798788ee7row4_col7,#T_219d99b8_0b9f_11eb_94a8_089798788ee7row5_col0,#T_219d99b8_0b9f_11eb_94a8_089798788ee7row5_col1,#T_219d99b8_0b9f_11eb_94a8_089798788ee7row5_col2,#T_219d99b8_0b9f_11eb_94a8_089798788ee7row5_col3,#T_219d99b8_0b9f_11eb_94a8_089798788ee7row5_col4,#T_219d99b8_0b9f_11eb_94a8_089798788ee7row5_col5,#T_219d99b8_0b9f_11eb_94a8_089798788ee7row5_col6,#T_219d99b8_0b9f_11eb_94a8_089798788ee7row5_col7,#T_219d99b8_0b9f_11eb_94a8_089798788ee7row6_col0,#T_219d99b8_0b9f_11eb_94a8_089798788ee7row6_col1,#T_219d99b8_0b9f_11eb_94a8_089798788ee7row6_col2,#T_219d99b8_0b9f_11eb_94a8_089798788ee7row6_col3,#T_219d99b8_0b9f_11eb_94a8_089798788ee7row6_col4,#T_219d99b8_0b9f_11eb_94a8_089798788ee7row6_col5,#T_219d99b8_0b9f_11eb_94a8_089798788ee7row6_col6,#T_219d99b8_0b9f_11eb_94a8_089798788ee7row6_col7,#T_219d99b8_0b9f_11eb_94a8_089798788ee7row7_col0,#T_219d99b8_0b9f_11eb_94a8_089798788ee7row7_col1,#T_219d99b8_0b9f_11eb_94a8_089798788ee7row7_col2,#T_219d99b8_0b9f_11eb_94a8_089798788ee7row7_col3,#T_219d99b8_0b9f_11eb_94a8_089798788ee7row7_col4,#T_219d99b8_0b9f_11eb_94a8_089798788ee7row7_col5,#T_219d99b8_0b9f_11eb_94a8_089798788ee7row7_col6,#T_219d99b8_0b9f_11eb_94a8_089798788ee7row7_col7,#T_219d99b8_0b9f_11eb_94a8_089798788ee7row8_col0,#T_219d99b8_0b9f_11eb_94a8_089798788ee7row8_col1,#T_219d99b8_0b9f_11eb_94a8_089798788ee7row8_col2,#T_219d99b8_0b9f_11eb_94a8_089798788ee7row8_col3,#T_219d99b8_0b9f_11eb_94a8_089798788ee7row8_col4,#T_219d99b8_0b9f_11eb_94a8_089798788ee7row8_col5,#T_219d99b8_0b9f_11eb_94a8_089798788ee7row8_col6,#T_219d99b8_0b9f_11eb_94a8_089798788ee7row8_col7,#T_219d99b8_0b9f_11eb_94a8_089798788ee7row9_col0,#T_219d99b8_0b9f_11eb_94a8_089798788ee7row9_col1,#T_219d99b8_0b9f_11eb_94a8_089798788ee7row9_col2,#T_219d99b8_0b9f_11eb_94a8_089798788ee7row9_col4,#T_219d99b8_0b9f_11eb_94a8_089798788ee7row9_col5,#T_219d99b8_0b9f_11eb_94a8_089798788ee7row9_col6,#T_219d99b8_0b9f_11eb_94a8_089798788ee7row9_col7,#T_219d99b8_0b9f_11eb_94a8_089798788ee7row10_col0,#T_219d99b8_0b9f_11eb_94a8_089798788ee7row10_col1,#T_219d99b8_0b9f_11eb_94a8_089798788ee7row10_col2,#T_219d99b8_0b9f_11eb_94a8_089798788ee7row10_col3,#T_219d99b8_0b9f_11eb_94a8_089798788ee7row10_col4,#T_219d99b8_0b9f_11eb_94a8_089798788ee7row10_col5,#T_219d99b8_0b9f_11eb_94a8_089798788ee7row10_col6,#T_219d99b8_0b9f_11eb_94a8_089798788ee7row10_col7,#T_219d99b8_0b9f_11eb_94a8_089798788ee7row11_col0,#T_219d99b8_0b9f_11eb_94a8_089798788ee7row11_col1,#T_219d99b8_0b9f_11eb_94a8_089798788ee7row11_col2,#T_219d99b8_0b9f_11eb_94a8_089798788ee7row11_col3,#T_219d99b8_0b9f_11eb_94a8_089798788ee7row11_col4,#T_219d99b8_0b9f_11eb_94a8_089798788ee7row11_col5,#T_219d99b8_0b9f_11eb_94a8_089798788ee7row11_col6,#T_219d99b8_0b9f_11eb_94a8_089798788ee7row11_col7,#T_219d99b8_0b9f_11eb_94a8_089798788ee7row12_col0,#T_219d99b8_0b9f_11eb_94a8_089798788ee7row12_col1,#T_219d99b8_0b9f_11eb_94a8_089798788ee7row12_col2,#T_219d99b8_0b9f_11eb_94a8_089798788ee7row12_col3,#T_219d99b8_0b9f_11eb_94a8_089798788ee7row12_col4,#T_219d99b8_0b9f_11eb_94a8_089798788ee7row12_col5,#T_219d99b8_0b9f_11eb_94a8_089798788ee7row12_col6,#T_219d99b8_0b9f_11eb_94a8_089798788ee7row12_col7,#T_219d99b8_0b9f_11eb_94a8_089798788ee7row13_col0,#T_219d99b8_0b9f_11eb_94a8_089798788ee7row13_col1,#T_219d99b8_0b9f_11eb_94a8_089798788ee7row13_col2,#T_219d99b8_0b9f_11eb_94a8_089798788ee7row13_col3,#T_219d99b8_0b9f_11eb_94a8_089798788ee7row13_col4,#T_219d99b8_0b9f_11eb_94a8_089798788ee7row13_col5,#T_219d99b8_0b9f_11eb_94a8_089798788ee7row13_col6,#T_219d99b8_0b9f_11eb_94a8_089798788ee7row13_col7,#T_219d99b8_0b9f_11eb_94a8_089798788ee7row14_col0,#T_219d99b8_0b9f_11eb_94a8_089798788ee7row14_col1,#T_219d99b8_0b9f_11eb_94a8_089798788ee7row14_col2,#T_219d99b8_0b9f_11eb_94a8_089798788ee7row14_col3,#T_219d99b8_0b9f_11eb_94a8_089798788ee7row14_col4,#T_219d99b8_0b9f_11eb_94a8_089798788ee7row14_col5,#T_219d99b8_0b9f_11eb_94a8_089798788ee7row14_col6,#T_219d99b8_0b9f_11eb_94a8_089798788ee7row14_col7,#T_219d99b8_0b9f_11eb_94a8_089798788ee7row15_col0,#T_219d99b8_0b9f_11eb_94a8_089798788ee7row15_col1,#T_219d99b8_0b9f_11eb_94a8_089798788ee7row15_col2,#T_219d99b8_0b9f_11eb_94a8_089798788ee7row15_col3,#T_219d99b8_0b9f_11eb_94a8_089798788ee7row15_col4,#T_219d99b8_0b9f_11eb_94a8_089798788ee7row15_col5,#T_219d99b8_0b9f_11eb_94a8_089798788ee7row15_col6,#T_219d99b8_0b9f_11eb_94a8_089798788ee7row15_col7{\n",
       "            text-align:  left;\n",
       "        }#T_219d99b8_0b9f_11eb_94a8_089798788ee7row0_col1,#T_219d99b8_0b9f_11eb_94a8_089798788ee7row0_col2,#T_219d99b8_0b9f_11eb_94a8_089798788ee7row0_col4,#T_219d99b8_0b9f_11eb_94a8_089798788ee7row0_col5,#T_219d99b8_0b9f_11eb_94a8_089798788ee7row1_col1,#T_219d99b8_0b9f_11eb_94a8_089798788ee7row1_col2,#T_219d99b8_0b9f_11eb_94a8_089798788ee7row1_col5,#T_219d99b8_0b9f_11eb_94a8_089798788ee7row1_col6,#T_219d99b8_0b9f_11eb_94a8_089798788ee7row1_col7,#T_219d99b8_0b9f_11eb_94a8_089798788ee7row2_col1,#T_219d99b8_0b9f_11eb_94a8_089798788ee7row2_col5,#T_219d99b8_0b9f_11eb_94a8_089798788ee7row2_col6,#T_219d99b8_0b9f_11eb_94a8_089798788ee7row9_col3{\n",
       "            background-color:  yellow;\n",
       "            text-align:  left;\n",
       "        }#T_219d99b8_0b9f_11eb_94a8_089798788ee7row0_col8,#T_219d99b8_0b9f_11eb_94a8_089798788ee7row1_col8,#T_219d99b8_0b9f_11eb_94a8_089798788ee7row2_col8,#T_219d99b8_0b9f_11eb_94a8_089798788ee7row3_col8,#T_219d99b8_0b9f_11eb_94a8_089798788ee7row4_col8,#T_219d99b8_0b9f_11eb_94a8_089798788ee7row5_col8,#T_219d99b8_0b9f_11eb_94a8_089798788ee7row6_col8,#T_219d99b8_0b9f_11eb_94a8_089798788ee7row7_col8,#T_219d99b8_0b9f_11eb_94a8_089798788ee7row8_col8,#T_219d99b8_0b9f_11eb_94a8_089798788ee7row9_col8,#T_219d99b8_0b9f_11eb_94a8_089798788ee7row10_col8,#T_219d99b8_0b9f_11eb_94a8_089798788ee7row11_col8,#T_219d99b8_0b9f_11eb_94a8_089798788ee7row12_col8,#T_219d99b8_0b9f_11eb_94a8_089798788ee7row13_col8,#T_219d99b8_0b9f_11eb_94a8_089798788ee7row14_col8,#T_219d99b8_0b9f_11eb_94a8_089798788ee7row15_col8{\n",
       "            background-color:  lightgrey;\n",
       "            text-align:  left;\n",
       "        }</style><table id=\"T_219d99b8_0b9f_11eb_94a8_089798788ee7\" ><thead>    <tr>        <th class=\"blank level0\" ></th>        <th class=\"col_heading level0 col0\" >Model</th>        <th class=\"col_heading level0 col1\" >Accuracy</th>        <th class=\"col_heading level0 col2\" >AUC</th>        <th class=\"col_heading level0 col3\" >Recall</th>        <th class=\"col_heading level0 col4\" >Prec.</th>        <th class=\"col_heading level0 col5\" >F1</th>        <th class=\"col_heading level0 col6\" >Kappa</th>        <th class=\"col_heading level0 col7\" >MCC</th>        <th class=\"col_heading level0 col8\" >TT (Sec)</th>    </tr></thead><tbody>\n",
       "                <tr>\n",
       "                        <th id=\"T_219d99b8_0b9f_11eb_94a8_089798788ee7level0_row0\" class=\"row_heading level0 row0\" >0</th>\n",
       "                        <td id=\"T_219d99b8_0b9f_11eb_94a8_089798788ee7row0_col0\" class=\"data row0 col0\" >Extreme Gradient Boosting</td>\n",
       "                        <td id=\"T_219d99b8_0b9f_11eb_94a8_089798788ee7row0_col1\" class=\"data row0 col1\" >0.96</td>\n",
       "                        <td id=\"T_219d99b8_0b9f_11eb_94a8_089798788ee7row0_col2\" class=\"data row0 col2\" >0.92</td>\n",
       "                        <td id=\"T_219d99b8_0b9f_11eb_94a8_089798788ee7row0_col3\" class=\"data row0 col3\" >0.75</td>\n",
       "                        <td id=\"T_219d99b8_0b9f_11eb_94a8_089798788ee7row0_col4\" class=\"data row0 col4\" >0.90</td>\n",
       "                        <td id=\"T_219d99b8_0b9f_11eb_94a8_089798788ee7row0_col5\" class=\"data row0 col5\" >0.82</td>\n",
       "                        <td id=\"T_219d99b8_0b9f_11eb_94a8_089798788ee7row0_col6\" class=\"data row0 col6\" >0.79</td>\n",
       "                        <td id=\"T_219d99b8_0b9f_11eb_94a8_089798788ee7row0_col7\" class=\"data row0 col7\" >0.80</td>\n",
       "                        <td id=\"T_219d99b8_0b9f_11eb_94a8_089798788ee7row0_col8\" class=\"data row0 col8\" >0.83</td>\n",
       "            </tr>\n",
       "            <tr>\n",
       "                        <th id=\"T_219d99b8_0b9f_11eb_94a8_089798788ee7level0_row1\" class=\"row_heading level0 row1\" >1</th>\n",
       "                        <td id=\"T_219d99b8_0b9f_11eb_94a8_089798788ee7row1_col0\" class=\"data row1 col0\" >Light Gradient Boosting Machine</td>\n",
       "                        <td id=\"T_219d99b8_0b9f_11eb_94a8_089798788ee7row1_col1\" class=\"data row1 col1\" >0.96</td>\n",
       "                        <td id=\"T_219d99b8_0b9f_11eb_94a8_089798788ee7row1_col2\" class=\"data row1 col2\" >0.92</td>\n",
       "                        <td id=\"T_219d99b8_0b9f_11eb_94a8_089798788ee7row1_col3\" class=\"data row1 col3\" >0.77</td>\n",
       "                        <td id=\"T_219d99b8_0b9f_11eb_94a8_089798788ee7row1_col4\" class=\"data row1 col4\" >0.89</td>\n",
       "                        <td id=\"T_219d99b8_0b9f_11eb_94a8_089798788ee7row1_col5\" class=\"data row1 col5\" >0.82</td>\n",
       "                        <td id=\"T_219d99b8_0b9f_11eb_94a8_089798788ee7row1_col6\" class=\"data row1 col6\" >0.80</td>\n",
       "                        <td id=\"T_219d99b8_0b9f_11eb_94a8_089798788ee7row1_col7\" class=\"data row1 col7\" >0.81</td>\n",
       "                        <td id=\"T_219d99b8_0b9f_11eb_94a8_089798788ee7row1_col8\" class=\"data row1 col8\" >0.24</td>\n",
       "            </tr>\n",
       "            <tr>\n",
       "                        <th id=\"T_219d99b8_0b9f_11eb_94a8_089798788ee7level0_row2\" class=\"row_heading level0 row2\" >2</th>\n",
       "                        <td id=\"T_219d99b8_0b9f_11eb_94a8_089798788ee7row2_col0\" class=\"data row2 col0\" >CatBoost Classifier</td>\n",
       "                        <td id=\"T_219d99b8_0b9f_11eb_94a8_089798788ee7row2_col1\" class=\"data row2 col1\" >0.96</td>\n",
       "                        <td id=\"T_219d99b8_0b9f_11eb_94a8_089798788ee7row2_col2\" class=\"data row2 col2\" >0.91</td>\n",
       "                        <td id=\"T_219d99b8_0b9f_11eb_94a8_089798788ee7row2_col3\" class=\"data row2 col3\" >0.78</td>\n",
       "                        <td id=\"T_219d99b8_0b9f_11eb_94a8_089798788ee7row2_col4\" class=\"data row2 col4\" >0.88</td>\n",
       "                        <td id=\"T_219d99b8_0b9f_11eb_94a8_089798788ee7row2_col5\" class=\"data row2 col5\" >0.82</td>\n",
       "                        <td id=\"T_219d99b8_0b9f_11eb_94a8_089798788ee7row2_col6\" class=\"data row2 col6\" >0.80</td>\n",
       "                        <td id=\"T_219d99b8_0b9f_11eb_94a8_089798788ee7row2_col7\" class=\"data row2 col7\" >0.80</td>\n",
       "                        <td id=\"T_219d99b8_0b9f_11eb_94a8_089798788ee7row2_col8\" class=\"data row2 col8\" >7.03</td>\n",
       "            </tr>\n",
       "            <tr>\n",
       "                        <th id=\"T_219d99b8_0b9f_11eb_94a8_089798788ee7level0_row3\" class=\"row_heading level0 row3\" >3</th>\n",
       "                        <td id=\"T_219d99b8_0b9f_11eb_94a8_089798788ee7row3_col0\" class=\"data row3 col0\" >Random Forest Classifier</td>\n",
       "                        <td id=\"T_219d99b8_0b9f_11eb_94a8_089798788ee7row3_col1\" class=\"data row3 col1\" >0.94</td>\n",
       "                        <td id=\"T_219d99b8_0b9f_11eb_94a8_089798788ee7row3_col2\" class=\"data row3 col2\" >0.89</td>\n",
       "                        <td id=\"T_219d99b8_0b9f_11eb_94a8_089798788ee7row3_col3\" class=\"data row3 col3\" >0.61</td>\n",
       "                        <td id=\"T_219d99b8_0b9f_11eb_94a8_089798788ee7row3_col4\" class=\"data row3 col4\" >0.82</td>\n",
       "                        <td id=\"T_219d99b8_0b9f_11eb_94a8_089798788ee7row3_col5\" class=\"data row3 col5\" >0.70</td>\n",
       "                        <td id=\"T_219d99b8_0b9f_11eb_94a8_089798788ee7row3_col6\" class=\"data row3 col6\" >0.66</td>\n",
       "                        <td id=\"T_219d99b8_0b9f_11eb_94a8_089798788ee7row3_col7\" class=\"data row3 col7\" >0.67</td>\n",
       "                        <td id=\"T_219d99b8_0b9f_11eb_94a8_089798788ee7row3_col8\" class=\"data row3 col8\" >0.11</td>\n",
       "            </tr>\n",
       "            <tr>\n",
       "                        <th id=\"T_219d99b8_0b9f_11eb_94a8_089798788ee7level0_row4\" class=\"row_heading level0 row4\" >4</th>\n",
       "                        <td id=\"T_219d99b8_0b9f_11eb_94a8_089798788ee7row4_col0\" class=\"data row4 col0\" >Gradient Boosting Classifier</td>\n",
       "                        <td id=\"T_219d99b8_0b9f_11eb_94a8_089798788ee7row4_col1\" class=\"data row4 col1\" >0.94</td>\n",
       "                        <td id=\"T_219d99b8_0b9f_11eb_94a8_089798788ee7row4_col2\" class=\"data row4 col2\" >0.91</td>\n",
       "                        <td id=\"T_219d99b8_0b9f_11eb_94a8_089798788ee7row4_col3\" class=\"data row4 col3\" >0.76</td>\n",
       "                        <td id=\"T_219d99b8_0b9f_11eb_94a8_089798788ee7row4_col4\" class=\"data row4 col4\" >0.76</td>\n",
       "                        <td id=\"T_219d99b8_0b9f_11eb_94a8_089798788ee7row4_col5\" class=\"data row4 col5\" >0.76</td>\n",
       "                        <td id=\"T_219d99b8_0b9f_11eb_94a8_089798788ee7row4_col6\" class=\"data row4 col6\" >0.73</td>\n",
       "                        <td id=\"T_219d99b8_0b9f_11eb_94a8_089798788ee7row4_col7\" class=\"data row4 col7\" >0.73</td>\n",
       "                        <td id=\"T_219d99b8_0b9f_11eb_94a8_089798788ee7row4_col8\" class=\"data row4 col8\" >1.85</td>\n",
       "            </tr>\n",
       "            <tr>\n",
       "                        <th id=\"T_219d99b8_0b9f_11eb_94a8_089798788ee7level0_row5\" class=\"row_heading level0 row5\" >5</th>\n",
       "                        <td id=\"T_219d99b8_0b9f_11eb_94a8_089798788ee7row5_col0\" class=\"data row5 col0\" >Extra Trees Classifier</td>\n",
       "                        <td id=\"T_219d99b8_0b9f_11eb_94a8_089798788ee7row5_col1\" class=\"data row5 col1\" >0.94</td>\n",
       "                        <td id=\"T_219d99b8_0b9f_11eb_94a8_089798788ee7row5_col2\" class=\"data row5 col2\" >0.91</td>\n",
       "                        <td id=\"T_219d99b8_0b9f_11eb_94a8_089798788ee7row5_col3\" class=\"data row5 col3\" >0.60</td>\n",
       "                        <td id=\"T_219d99b8_0b9f_11eb_94a8_089798788ee7row5_col4\" class=\"data row5 col4\" >0.87</td>\n",
       "                        <td id=\"T_219d99b8_0b9f_11eb_94a8_089798788ee7row5_col5\" class=\"data row5 col5\" >0.71</td>\n",
       "                        <td id=\"T_219d99b8_0b9f_11eb_94a8_089798788ee7row5_col6\" class=\"data row5 col6\" >0.68</td>\n",
       "                        <td id=\"T_219d99b8_0b9f_11eb_94a8_089798788ee7row5_col7\" class=\"data row5 col7\" >0.69</td>\n",
       "                        <td id=\"T_219d99b8_0b9f_11eb_94a8_089798788ee7row5_col8\" class=\"data row5 col8\" >0.24</td>\n",
       "            </tr>\n",
       "            <tr>\n",
       "                        <th id=\"T_219d99b8_0b9f_11eb_94a8_089798788ee7level0_row6\" class=\"row_heading level0 row6\" >6</th>\n",
       "                        <td id=\"T_219d99b8_0b9f_11eb_94a8_089798788ee7row6_col0\" class=\"data row6 col0\" >Decision Tree Classifier</td>\n",
       "                        <td id=\"T_219d99b8_0b9f_11eb_94a8_089798788ee7row6_col1\" class=\"data row6 col1\" >0.91</td>\n",
       "                        <td id=\"T_219d99b8_0b9f_11eb_94a8_089798788ee7row6_col2\" class=\"data row6 col2\" >0.84</td>\n",
       "                        <td id=\"T_219d99b8_0b9f_11eb_94a8_089798788ee7row6_col3\" class=\"data row6 col3\" >0.74</td>\n",
       "                        <td id=\"T_219d99b8_0b9f_11eb_94a8_089798788ee7row6_col4\" class=\"data row6 col4\" >0.61</td>\n",
       "                        <td id=\"T_219d99b8_0b9f_11eb_94a8_089798788ee7row6_col5\" class=\"data row6 col5\" >0.67</td>\n",
       "                        <td id=\"T_219d99b8_0b9f_11eb_94a8_089798788ee7row6_col6\" class=\"data row6 col6\" >0.61</td>\n",
       "                        <td id=\"T_219d99b8_0b9f_11eb_94a8_089798788ee7row6_col7\" class=\"data row6 col7\" >0.62</td>\n",
       "                        <td id=\"T_219d99b8_0b9f_11eb_94a8_089798788ee7row6_col8\" class=\"data row6 col8\" >0.09</td>\n",
       "            </tr>\n",
       "            <tr>\n",
       "                        <th id=\"T_219d99b8_0b9f_11eb_94a8_089798788ee7level0_row7\" class=\"row_heading level0 row7\" >7</th>\n",
       "                        <td id=\"T_219d99b8_0b9f_11eb_94a8_089798788ee7row7_col0\" class=\"data row7 col0\" >MLP Classifier</td>\n",
       "                        <td id=\"T_219d99b8_0b9f_11eb_94a8_089798788ee7row7_col1\" class=\"data row7 col1\" >0.91</td>\n",
       "                        <td id=\"T_219d99b8_0b9f_11eb_94a8_089798788ee7row7_col2\" class=\"data row7 col2\" >0.88</td>\n",
       "                        <td id=\"T_219d99b8_0b9f_11eb_94a8_089798788ee7row7_col3\" class=\"data row7 col3\" >0.62</td>\n",
       "                        <td id=\"T_219d99b8_0b9f_11eb_94a8_089798788ee7row7_col4\" class=\"data row7 col4\" >0.66</td>\n",
       "                        <td id=\"T_219d99b8_0b9f_11eb_94a8_089798788ee7row7_col5\" class=\"data row7 col5\" >0.64</td>\n",
       "                        <td id=\"T_219d99b8_0b9f_11eb_94a8_089798788ee7row7_col6\" class=\"data row7 col6\" >0.59</td>\n",
       "                        <td id=\"T_219d99b8_0b9f_11eb_94a8_089798788ee7row7_col7\" class=\"data row7 col7\" >0.59</td>\n",
       "                        <td id=\"T_219d99b8_0b9f_11eb_94a8_089798788ee7row7_col8\" class=\"data row7 col8\" >5.29</td>\n",
       "            </tr>\n",
       "            <tr>\n",
       "                        <th id=\"T_219d99b8_0b9f_11eb_94a8_089798788ee7level0_row8\" class=\"row_heading level0 row8\" >8</th>\n",
       "                        <td id=\"T_219d99b8_0b9f_11eb_94a8_089798788ee7row8_col0\" class=\"data row8 col0\" >Ada Boost Classifier</td>\n",
       "                        <td id=\"T_219d99b8_0b9f_11eb_94a8_089798788ee7row8_col1\" class=\"data row8 col1\" >0.88</td>\n",
       "                        <td id=\"T_219d99b8_0b9f_11eb_94a8_089798788ee7row8_col2\" class=\"data row8 col2\" >0.85</td>\n",
       "                        <td id=\"T_219d99b8_0b9f_11eb_94a8_089798788ee7row8_col3\" class=\"data row8 col3\" >0.56</td>\n",
       "                        <td id=\"T_219d99b8_0b9f_11eb_94a8_089798788ee7row8_col4\" class=\"data row8 col4\" >0.50</td>\n",
       "                        <td id=\"T_219d99b8_0b9f_11eb_94a8_089798788ee7row8_col5\" class=\"data row8 col5\" >0.52</td>\n",
       "                        <td id=\"T_219d99b8_0b9f_11eb_94a8_089798788ee7row8_col6\" class=\"data row8 col6\" >0.45</td>\n",
       "                        <td id=\"T_219d99b8_0b9f_11eb_94a8_089798788ee7row8_col7\" class=\"data row8 col7\" >0.46</td>\n",
       "                        <td id=\"T_219d99b8_0b9f_11eb_94a8_089798788ee7row8_col8\" class=\"data row8 col8\" >0.50</td>\n",
       "            </tr>\n",
       "            <tr>\n",
       "                        <th id=\"T_219d99b8_0b9f_11eb_94a8_089798788ee7level0_row9\" class=\"row_heading level0 row9\" >9</th>\n",
       "                        <td id=\"T_219d99b8_0b9f_11eb_94a8_089798788ee7row9_col0\" class=\"data row9 col0\" >SVM - Radial Kernel</td>\n",
       "                        <td id=\"T_219d99b8_0b9f_11eb_94a8_089798788ee7row9_col1\" class=\"data row9 col1\" >0.87</td>\n",
       "                        <td id=\"T_219d99b8_0b9f_11eb_94a8_089798788ee7row9_col2\" class=\"data row9 col2\" >0.88</td>\n",
       "                        <td id=\"T_219d99b8_0b9f_11eb_94a8_089798788ee7row9_col3\" class=\"data row9 col3\" >0.82</td>\n",
       "                        <td id=\"T_219d99b8_0b9f_11eb_94a8_089798788ee7row9_col4\" class=\"data row9 col4\" >0.49</td>\n",
       "                        <td id=\"T_219d99b8_0b9f_11eb_94a8_089798788ee7row9_col5\" class=\"data row9 col5\" >0.61</td>\n",
       "                        <td id=\"T_219d99b8_0b9f_11eb_94a8_089798788ee7row9_col6\" class=\"data row9 col6\" >0.55</td>\n",
       "                        <td id=\"T_219d99b8_0b9f_11eb_94a8_089798788ee7row9_col7\" class=\"data row9 col7\" >0.57</td>\n",
       "                        <td id=\"T_219d99b8_0b9f_11eb_94a8_089798788ee7row9_col8\" class=\"data row9 col8\" >6.49</td>\n",
       "            </tr>\n",
       "            <tr>\n",
       "                        <th id=\"T_219d99b8_0b9f_11eb_94a8_089798788ee7level0_row10\" class=\"row_heading level0 row10\" >10</th>\n",
       "                        <td id=\"T_219d99b8_0b9f_11eb_94a8_089798788ee7row10_col0\" class=\"data row10 col0\" >Logistic Regression</td>\n",
       "                        <td id=\"T_219d99b8_0b9f_11eb_94a8_089798788ee7row10_col1\" class=\"data row10 col1\" >0.83</td>\n",
       "                        <td id=\"T_219d99b8_0b9f_11eb_94a8_089798788ee7row10_col2\" class=\"data row10 col2\" >0.85</td>\n",
       "                        <td id=\"T_219d99b8_0b9f_11eb_94a8_089798788ee7row10_col3\" class=\"data row10 col3\" >0.78</td>\n",
       "                        <td id=\"T_219d99b8_0b9f_11eb_94a8_089798788ee7row10_col4\" class=\"data row10 col4\" >0.39</td>\n",
       "                        <td id=\"T_219d99b8_0b9f_11eb_94a8_089798788ee7row10_col5\" class=\"data row10 col5\" >0.52</td>\n",
       "                        <td id=\"T_219d99b8_0b9f_11eb_94a8_089798788ee7row10_col6\" class=\"data row10 col6\" >0.43</td>\n",
       "                        <td id=\"T_219d99b8_0b9f_11eb_94a8_089798788ee7row10_col7\" class=\"data row10 col7\" >0.47</td>\n",
       "                        <td id=\"T_219d99b8_0b9f_11eb_94a8_089798788ee7row10_col8\" class=\"data row10 col8\" >0.06</td>\n",
       "            </tr>\n",
       "            <tr>\n",
       "                        <th id=\"T_219d99b8_0b9f_11eb_94a8_089798788ee7level0_row11\" class=\"row_heading level0 row11\" >11</th>\n",
       "                        <td id=\"T_219d99b8_0b9f_11eb_94a8_089798788ee7row11_col0\" class=\"data row11 col0\" >SVM - Linear Kernel</td>\n",
       "                        <td id=\"T_219d99b8_0b9f_11eb_94a8_089798788ee7row11_col1\" class=\"data row11 col1\" >0.83</td>\n",
       "                        <td id=\"T_219d99b8_0b9f_11eb_94a8_089798788ee7row11_col2\" class=\"data row11 col2\" >0.00</td>\n",
       "                        <td id=\"T_219d99b8_0b9f_11eb_94a8_089798788ee7row11_col3\" class=\"data row11 col3\" >0.76</td>\n",
       "                        <td id=\"T_219d99b8_0b9f_11eb_94a8_089798788ee7row11_col4\" class=\"data row11 col4\" >0.42</td>\n",
       "                        <td id=\"T_219d99b8_0b9f_11eb_94a8_089798788ee7row11_col5\" class=\"data row11 col5\" >0.53</td>\n",
       "                        <td id=\"T_219d99b8_0b9f_11eb_94a8_089798788ee7row11_col6\" class=\"data row11 col6\" >0.45</td>\n",
       "                        <td id=\"T_219d99b8_0b9f_11eb_94a8_089798788ee7row11_col7\" class=\"data row11 col7\" >0.48</td>\n",
       "                        <td id=\"T_219d99b8_0b9f_11eb_94a8_089798788ee7row11_col8\" class=\"data row11 col8\" >0.05</td>\n",
       "            </tr>\n",
       "            <tr>\n",
       "                        <th id=\"T_219d99b8_0b9f_11eb_94a8_089798788ee7level0_row12\" class=\"row_heading level0 row12\" >12</th>\n",
       "                        <td id=\"T_219d99b8_0b9f_11eb_94a8_089798788ee7row12_col0\" class=\"data row12 col0\" >Ridge Classifier</td>\n",
       "                        <td id=\"T_219d99b8_0b9f_11eb_94a8_089798788ee7row12_col1\" class=\"data row12 col1\" >0.82</td>\n",
       "                        <td id=\"T_219d99b8_0b9f_11eb_94a8_089798788ee7row12_col2\" class=\"data row12 col2\" >0.00</td>\n",
       "                        <td id=\"T_219d99b8_0b9f_11eb_94a8_089798788ee7row12_col3\" class=\"data row12 col3\" >0.79</td>\n",
       "                        <td id=\"T_219d99b8_0b9f_11eb_94a8_089798788ee7row12_col4\" class=\"data row12 col4\" >0.39</td>\n",
       "                        <td id=\"T_219d99b8_0b9f_11eb_94a8_089798788ee7row12_col5\" class=\"data row12 col5\" >0.52</td>\n",
       "                        <td id=\"T_219d99b8_0b9f_11eb_94a8_089798788ee7row12_col6\" class=\"data row12 col6\" >0.43</td>\n",
       "                        <td id=\"T_219d99b8_0b9f_11eb_94a8_089798788ee7row12_col7\" class=\"data row12 col7\" >0.47</td>\n",
       "                        <td id=\"T_219d99b8_0b9f_11eb_94a8_089798788ee7row12_col8\" class=\"data row12 col8\" >0.01</td>\n",
       "            </tr>\n",
       "            <tr>\n",
       "                        <th id=\"T_219d99b8_0b9f_11eb_94a8_089798788ee7level0_row13\" class=\"row_heading level0 row13\" >13</th>\n",
       "                        <td id=\"T_219d99b8_0b9f_11eb_94a8_089798788ee7row13_col0\" class=\"data row13 col0\" >Linear Discriminant Analysis</td>\n",
       "                        <td id=\"T_219d99b8_0b9f_11eb_94a8_089798788ee7row13_col1\" class=\"data row13 col1\" >0.82</td>\n",
       "                        <td id=\"T_219d99b8_0b9f_11eb_94a8_089798788ee7row13_col2\" class=\"data row13 col2\" >0.86</td>\n",
       "                        <td id=\"T_219d99b8_0b9f_11eb_94a8_089798788ee7row13_col3\" class=\"data row13 col3\" >0.79</td>\n",
       "                        <td id=\"T_219d99b8_0b9f_11eb_94a8_089798788ee7row13_col4\" class=\"data row13 col4\" >0.39</td>\n",
       "                        <td id=\"T_219d99b8_0b9f_11eb_94a8_089798788ee7row13_col5\" class=\"data row13 col5\" >0.52</td>\n",
       "                        <td id=\"T_219d99b8_0b9f_11eb_94a8_089798788ee7row13_col6\" class=\"data row13 col6\" >0.43</td>\n",
       "                        <td id=\"T_219d99b8_0b9f_11eb_94a8_089798788ee7row13_col7\" class=\"data row13 col7\" >0.47</td>\n",
       "                        <td id=\"T_219d99b8_0b9f_11eb_94a8_089798788ee7row13_col8\" class=\"data row13 col8\" >0.05</td>\n",
       "            </tr>\n",
       "            <tr>\n",
       "                        <th id=\"T_219d99b8_0b9f_11eb_94a8_089798788ee7level0_row14\" class=\"row_heading level0 row14\" >14</th>\n",
       "                        <td id=\"T_219d99b8_0b9f_11eb_94a8_089798788ee7row14_col0\" class=\"data row14 col0\" >K Neighbors Classifier</td>\n",
       "                        <td id=\"T_219d99b8_0b9f_11eb_94a8_089798788ee7row14_col1\" class=\"data row14 col1\" >0.73</td>\n",
       "                        <td id=\"T_219d99b8_0b9f_11eb_94a8_089798788ee7row14_col2\" class=\"data row14 col2\" >0.78</td>\n",
       "                        <td id=\"T_219d99b8_0b9f_11eb_94a8_089798788ee7row14_col3\" class=\"data row14 col3\" >0.71</td>\n",
       "                        <td id=\"T_219d99b8_0b9f_11eb_94a8_089798788ee7row14_col4\" class=\"data row14 col4\" >0.27</td>\n",
       "                        <td id=\"T_219d99b8_0b9f_11eb_94a8_089798788ee7row14_col5\" class=\"data row14 col5\" >0.39</td>\n",
       "                        <td id=\"T_219d99b8_0b9f_11eb_94a8_089798788ee7row14_col6\" class=\"data row14 col6\" >0.26</td>\n",
       "                        <td id=\"T_219d99b8_0b9f_11eb_94a8_089798788ee7row14_col7\" class=\"data row14 col7\" >0.31</td>\n",
       "                        <td id=\"T_219d99b8_0b9f_11eb_94a8_089798788ee7row14_col8\" class=\"data row14 col8\" >0.07</td>\n",
       "            </tr>\n",
       "            <tr>\n",
       "                        <th id=\"T_219d99b8_0b9f_11eb_94a8_089798788ee7level0_row15\" class=\"row_heading level0 row15\" >15</th>\n",
       "                        <td id=\"T_219d99b8_0b9f_11eb_94a8_089798788ee7row15_col0\" class=\"data row15 col0\" >Naive Bayes</td>\n",
       "                        <td id=\"T_219d99b8_0b9f_11eb_94a8_089798788ee7row15_col1\" class=\"data row15 col1\" >0.57</td>\n",
       "                        <td id=\"T_219d99b8_0b9f_11eb_94a8_089798788ee7row15_col2\" class=\"data row15 col2\" >0.66</td>\n",
       "                        <td id=\"T_219d99b8_0b9f_11eb_94a8_089798788ee7row15_col3\" class=\"data row15 col3\" >0.64</td>\n",
       "                        <td id=\"T_219d99b8_0b9f_11eb_94a8_089798788ee7row15_col4\" class=\"data row15 col4\" >0.17</td>\n",
       "                        <td id=\"T_219d99b8_0b9f_11eb_94a8_089798788ee7row15_col5\" class=\"data row15 col5\" >0.27</td>\n",
       "                        <td id=\"T_219d99b8_0b9f_11eb_94a8_089798788ee7row15_col6\" class=\"data row15 col6\" >0.09</td>\n",
       "                        <td id=\"T_219d99b8_0b9f_11eb_94a8_089798788ee7row15_col7\" class=\"data row15 col7\" >0.13</td>\n",
       "                        <td id=\"T_219d99b8_0b9f_11eb_94a8_089798788ee7row15_col8\" class=\"data row15 col8\" >0.01</td>\n",
       "            </tr>\n",
       "    </tbody></table>"
      ],
      "text/plain": [
       "<pandas.io.formats.style.Styler at 0x2947cd90b88>"
      ]
     },
     "metadata": {},
     "output_type": "display_data"
    }
   ],
   "source": [
    "models = compare_models(n_select = 3,fold =5, round =2, exclude = [ 'qda', 'gpc'] , turbo = False)"
   ]
  },
  {
   "cell_type": "code",
   "execution_count": 15,
   "metadata": {},
   "outputs": [
    {
     "data": {
      "text/plain": [
       "[XGBClassifier(base_score=0.5, booster='gbtree', colsample_bylevel=1,\n",
       "               colsample_bynode=1, colsample_bytree=1, gamma=0, gpu_id=-1,\n",
       "               importance_type='gain', interaction_constraints='',\n",
       "               learning_rate=0.300000012, max_delta_step=0, max_depth=6,\n",
       "               min_child_weight=1, missing=nan, monotone_constraints='()',\n",
       "               n_estimators=100, n_jobs=-1, num_parallel_tree=1,\n",
       "               objective='binary:logistic', random_state=1168, reg_alpha=0,\n",
       "               reg_lambda=1, scale_pos_weight=1, subsample=1,\n",
       "               tree_method='exact', validate_parameters=1, verbosity=0),\n",
       " LGBMClassifier(boosting_type='gbdt', class_weight=None, colsample_bytree=1.0,\n",
       "                importance_type='split', learning_rate=0.1, max_depth=-1,\n",
       "                min_child_samples=20, min_child_weight=0.001, min_split_gain=0.0,\n",
       "                n_estimators=100, n_jobs=-1, num_leaves=31, objective=None,\n",
       "                random_state=1168, reg_alpha=0.0, reg_lambda=0.0, silent=True,\n",
       "                subsample=1.0, subsample_for_bin=200000, subsample_freq=0),\n",
       " <catboost.core.CatBoostClassifier at 0x294000acf48>]"
      ]
     },
     "execution_count": 15,
     "metadata": {},
     "output_type": "execute_result"
    }
   ],
   "source": [
    "models"
   ]
  },
  {
   "cell_type": "code",
   "execution_count": 16,
   "metadata": {},
   "outputs": [
    {
     "data": {
      "text/html": [
       "<style  type=\"text/css\" >\n",
       "#T_51e69998_0b9f_11eb_8273_089798788ee7row5_col0,#T_51e69998_0b9f_11eb_8273_089798788ee7row5_col1,#T_51e69998_0b9f_11eb_8273_089798788ee7row5_col2,#T_51e69998_0b9f_11eb_8273_089798788ee7row5_col3,#T_51e69998_0b9f_11eb_8273_089798788ee7row5_col4,#T_51e69998_0b9f_11eb_8273_089798788ee7row5_col5,#T_51e69998_0b9f_11eb_8273_089798788ee7row5_col6{\n",
       "            background:  yellow;\n",
       "        }</style><table id=\"T_51e69998_0b9f_11eb_8273_089798788ee7\" ><thead>    <tr>        <th class=\"blank level0\" ></th>        <th class=\"col_heading level0 col0\" >Accuracy</th>        <th class=\"col_heading level0 col1\" >AUC</th>        <th class=\"col_heading level0 col2\" >Recall</th>        <th class=\"col_heading level0 col3\" >Prec.</th>        <th class=\"col_heading level0 col4\" >F1</th>        <th class=\"col_heading level0 col5\" >Kappa</th>        <th class=\"col_heading level0 col6\" >MCC</th>    </tr></thead><tbody>\n",
       "                <tr>\n",
       "                        <th id=\"T_51e69998_0b9f_11eb_8273_089798788ee7level0_row0\" class=\"row_heading level0 row0\" >0</th>\n",
       "                        <td id=\"T_51e69998_0b9f_11eb_8273_089798788ee7row0_col0\" class=\"data row0 col0\" >0.94</td>\n",
       "                        <td id=\"T_51e69998_0b9f_11eb_8273_089798788ee7row0_col1\" class=\"data row0 col1\" >0.93</td>\n",
       "                        <td id=\"T_51e69998_0b9f_11eb_8273_089798788ee7row0_col2\" class=\"data row0 col2\" >0.81</td>\n",
       "                        <td id=\"T_51e69998_0b9f_11eb_8273_089798788ee7row0_col3\" class=\"data row0 col3\" >0.73</td>\n",
       "                        <td id=\"T_51e69998_0b9f_11eb_8273_089798788ee7row0_col4\" class=\"data row0 col4\" >0.77</td>\n",
       "                        <td id=\"T_51e69998_0b9f_11eb_8273_089798788ee7row0_col5\" class=\"data row0 col5\" >0.73</td>\n",
       "                        <td id=\"T_51e69998_0b9f_11eb_8273_089798788ee7row0_col6\" class=\"data row0 col6\" >0.73</td>\n",
       "            </tr>\n",
       "            <tr>\n",
       "                        <th id=\"T_51e69998_0b9f_11eb_8273_089798788ee7level0_row1\" class=\"row_heading level0 row1\" >1</th>\n",
       "                        <td id=\"T_51e69998_0b9f_11eb_8273_089798788ee7row1_col0\" class=\"data row1 col0\" >0.96</td>\n",
       "                        <td id=\"T_51e69998_0b9f_11eb_8273_089798788ee7row1_col1\" class=\"data row1 col1\" >0.93</td>\n",
       "                        <td id=\"T_51e69998_0b9f_11eb_8273_089798788ee7row1_col2\" class=\"data row1 col2\" >0.84</td>\n",
       "                        <td id=\"T_51e69998_0b9f_11eb_8273_089798788ee7row1_col3\" class=\"data row1 col3\" >0.82</td>\n",
       "                        <td id=\"T_51e69998_0b9f_11eb_8273_089798788ee7row1_col4\" class=\"data row1 col4\" >0.83</td>\n",
       "                        <td id=\"T_51e69998_0b9f_11eb_8273_089798788ee7row1_col5\" class=\"data row1 col5\" >0.80</td>\n",
       "                        <td id=\"T_51e69998_0b9f_11eb_8273_089798788ee7row1_col6\" class=\"data row1 col6\" >0.80</td>\n",
       "            </tr>\n",
       "            <tr>\n",
       "                        <th id=\"T_51e69998_0b9f_11eb_8273_089798788ee7level0_row2\" class=\"row_heading level0 row2\" >2</th>\n",
       "                        <td id=\"T_51e69998_0b9f_11eb_8273_089798788ee7row2_col0\" class=\"data row2 col0\" >0.95</td>\n",
       "                        <td id=\"T_51e69998_0b9f_11eb_8273_089798788ee7row2_col1\" class=\"data row2 col1\" >0.89</td>\n",
       "                        <td id=\"T_51e69998_0b9f_11eb_8273_089798788ee7row2_col2\" class=\"data row2 col2\" >0.73</td>\n",
       "                        <td id=\"T_51e69998_0b9f_11eb_8273_089798788ee7row2_col3\" class=\"data row2 col3\" >0.82</td>\n",
       "                        <td id=\"T_51e69998_0b9f_11eb_8273_089798788ee7row2_col4\" class=\"data row2 col4\" >0.77</td>\n",
       "                        <td id=\"T_51e69998_0b9f_11eb_8273_089798788ee7row2_col5\" class=\"data row2 col5\" >0.74</td>\n",
       "                        <td id=\"T_51e69998_0b9f_11eb_8273_089798788ee7row2_col6\" class=\"data row2 col6\" >0.75</td>\n",
       "            </tr>\n",
       "            <tr>\n",
       "                        <th id=\"T_51e69998_0b9f_11eb_8273_089798788ee7level0_row3\" class=\"row_heading level0 row3\" >3</th>\n",
       "                        <td id=\"T_51e69998_0b9f_11eb_8273_089798788ee7row3_col0\" class=\"data row3 col0\" >0.95</td>\n",
       "                        <td id=\"T_51e69998_0b9f_11eb_8273_089798788ee7row3_col1\" class=\"data row3 col1\" >0.92</td>\n",
       "                        <td id=\"T_51e69998_0b9f_11eb_8273_089798788ee7row3_col2\" class=\"data row3 col2\" >0.76</td>\n",
       "                        <td id=\"T_51e69998_0b9f_11eb_8273_089798788ee7row3_col3\" class=\"data row3 col3\" >0.83</td>\n",
       "                        <td id=\"T_51e69998_0b9f_11eb_8273_089798788ee7row3_col4\" class=\"data row3 col4\" >0.79</td>\n",
       "                        <td id=\"T_51e69998_0b9f_11eb_8273_089798788ee7row3_col5\" class=\"data row3 col5\" >0.77</td>\n",
       "                        <td id=\"T_51e69998_0b9f_11eb_8273_089798788ee7row3_col6\" class=\"data row3 col6\" >0.77</td>\n",
       "            </tr>\n",
       "            <tr>\n",
       "                        <th id=\"T_51e69998_0b9f_11eb_8273_089798788ee7level0_row4\" class=\"row_heading level0 row4\" >4</th>\n",
       "                        <td id=\"T_51e69998_0b9f_11eb_8273_089798788ee7row4_col0\" class=\"data row4 col0\" >0.95</td>\n",
       "                        <td id=\"T_51e69998_0b9f_11eb_8273_089798788ee7row4_col1\" class=\"data row4 col1\" >0.87</td>\n",
       "                        <td id=\"T_51e69998_0b9f_11eb_8273_089798788ee7row4_col2\" class=\"data row4 col2\" >0.72</td>\n",
       "                        <td id=\"T_51e69998_0b9f_11eb_8273_089798788ee7row4_col3\" class=\"data row4 col3\" >0.86</td>\n",
       "                        <td id=\"T_51e69998_0b9f_11eb_8273_089798788ee7row4_col4\" class=\"data row4 col4\" >0.78</td>\n",
       "                        <td id=\"T_51e69998_0b9f_11eb_8273_089798788ee7row4_col5\" class=\"data row4 col5\" >0.76</td>\n",
       "                        <td id=\"T_51e69998_0b9f_11eb_8273_089798788ee7row4_col6\" class=\"data row4 col6\" >0.76</td>\n",
       "            </tr>\n",
       "            <tr>\n",
       "                        <th id=\"T_51e69998_0b9f_11eb_8273_089798788ee7level0_row5\" class=\"row_heading level0 row5\" >Mean</th>\n",
       "                        <td id=\"T_51e69998_0b9f_11eb_8273_089798788ee7row5_col0\" class=\"data row5 col0\" >0.95</td>\n",
       "                        <td id=\"T_51e69998_0b9f_11eb_8273_089798788ee7row5_col1\" class=\"data row5 col1\" >0.91</td>\n",
       "                        <td id=\"T_51e69998_0b9f_11eb_8273_089798788ee7row5_col2\" class=\"data row5 col2\" >0.77</td>\n",
       "                        <td id=\"T_51e69998_0b9f_11eb_8273_089798788ee7row5_col3\" class=\"data row5 col3\" >0.81</td>\n",
       "                        <td id=\"T_51e69998_0b9f_11eb_8273_089798788ee7row5_col4\" class=\"data row5 col4\" >0.79</td>\n",
       "                        <td id=\"T_51e69998_0b9f_11eb_8273_089798788ee7row5_col5\" class=\"data row5 col5\" >0.76</td>\n",
       "                        <td id=\"T_51e69998_0b9f_11eb_8273_089798788ee7row5_col6\" class=\"data row5 col6\" >0.76</td>\n",
       "            </tr>\n",
       "            <tr>\n",
       "                        <th id=\"T_51e69998_0b9f_11eb_8273_089798788ee7level0_row6\" class=\"row_heading level0 row6\" >SD</th>\n",
       "                        <td id=\"T_51e69998_0b9f_11eb_8273_089798788ee7row6_col0\" class=\"data row6 col0\" >0.01</td>\n",
       "                        <td id=\"T_51e69998_0b9f_11eb_8273_089798788ee7row6_col1\" class=\"data row6 col1\" >0.03</td>\n",
       "                        <td id=\"T_51e69998_0b9f_11eb_8273_089798788ee7row6_col2\" class=\"data row6 col2\" >0.05</td>\n",
       "                        <td id=\"T_51e69998_0b9f_11eb_8273_089798788ee7row6_col3\" class=\"data row6 col3\" >0.05</td>\n",
       "                        <td id=\"T_51e69998_0b9f_11eb_8273_089798788ee7row6_col4\" class=\"data row6 col4\" >0.02</td>\n",
       "                        <td id=\"T_51e69998_0b9f_11eb_8273_089798788ee7row6_col5\" class=\"data row6 col5\" >0.02</td>\n",
       "                        <td id=\"T_51e69998_0b9f_11eb_8273_089798788ee7row6_col6\" class=\"data row6 col6\" >0.02</td>\n",
       "            </tr>\n",
       "    </tbody></table>"
      ],
      "text/plain": [
       "<pandas.io.formats.style.Styler at 0x294000a6dc8>"
      ]
     },
     "metadata": {},
     "output_type": "display_data"
    }
   ],
   "source": [
    "model = [tune_model(i,fold =5, round =2, optimize = 'F1' ) for i in models]"
   ]
  },
  {
   "cell_type": "code",
   "execution_count": 17,
   "metadata": {},
   "outputs": [
    {
     "data": {
      "text/plain": [
       "[XGBClassifier(base_score=0.5, booster='gbtree', colsample_bylevel=1,\n",
       "               colsample_bynode=1, colsample_bytree=1, gamma=0, gpu_id=-1,\n",
       "               importance_type='gain', interaction_constraints='',\n",
       "               learning_rate=0.1, max_delta_step=0, max_depth=90,\n",
       "               min_child_weight=3, missing=nan, monotone_constraints='()',\n",
       "               n_estimators=800, n_jobs=-1, num_parallel_tree=1,\n",
       "               objective='binary:logistic', random_state=1168, reg_alpha=0,\n",
       "               reg_lambda=1, scale_pos_weight=1, subsample=1,\n",
       "               tree_method='exact', validate_parameters=1, verbosity=0),\n",
       " LGBMClassifier(boosting_type='gbdt', class_weight=None, colsample_bytree=1.0,\n",
       "                importance_type='split', learning_rate=0.3, max_depth=110,\n",
       "                min_child_samples=20, min_child_weight=0.001, min_split_gain=0.5,\n",
       "                n_estimators=100, n_jobs=-1, num_leaves=70, objective=None,\n",
       "                random_state=1168, reg_alpha=0.2, reg_lambda=0.7, silent=True,\n",
       "                subsample=1.0, subsample_for_bin=200000, subsample_freq=0),\n",
       " <catboost.core.CatBoostClassifier at 0x2940008bd48>]"
      ]
     },
     "execution_count": 17,
     "metadata": {},
     "output_type": "execute_result"
    }
   ],
   "source": [
    "model"
   ]
  },
  {
   "cell_type": "code",
   "execution_count": 18,
   "metadata": {},
   "outputs": [
    {
     "data": {
      "text/html": [
       "<style  type=\"text/css\" >\n",
       "#T_f8a7f810_0b9f_11eb_aeda_089798788ee7row5_col0,#T_f8a7f810_0b9f_11eb_aeda_089798788ee7row5_col1,#T_f8a7f810_0b9f_11eb_aeda_089798788ee7row5_col2,#T_f8a7f810_0b9f_11eb_aeda_089798788ee7row5_col3,#T_f8a7f810_0b9f_11eb_aeda_089798788ee7row5_col4,#T_f8a7f810_0b9f_11eb_aeda_089798788ee7row5_col5,#T_f8a7f810_0b9f_11eb_aeda_089798788ee7row5_col6{\n",
       "            background:  yellow;\n",
       "        }</style><table id=\"T_f8a7f810_0b9f_11eb_aeda_089798788ee7\" ><thead>    <tr>        <th class=\"blank level0\" ></th>        <th class=\"col_heading level0 col0\" >Accuracy</th>        <th class=\"col_heading level0 col1\" >AUC</th>        <th class=\"col_heading level0 col2\" >Recall</th>        <th class=\"col_heading level0 col3\" >Prec.</th>        <th class=\"col_heading level0 col4\" >F1</th>        <th class=\"col_heading level0 col5\" >Kappa</th>        <th class=\"col_heading level0 col6\" >MCC</th>    </tr></thead><tbody>\n",
       "                <tr>\n",
       "                        <th id=\"T_f8a7f810_0b9f_11eb_aeda_089798788ee7level0_row0\" class=\"row_heading level0 row0\" >0</th>\n",
       "                        <td id=\"T_f8a7f810_0b9f_11eb_aeda_089798788ee7row0_col0\" class=\"data row0 col0\" >0.94</td>\n",
       "                        <td id=\"T_f8a7f810_0b9f_11eb_aeda_089798788ee7row0_col1\" class=\"data row0 col1\" >0.91</td>\n",
       "                        <td id=\"T_f8a7f810_0b9f_11eb_aeda_089798788ee7row0_col2\" class=\"data row0 col2\" >0.75</td>\n",
       "                        <td id=\"T_f8a7f810_0b9f_11eb_aeda_089798788ee7row0_col3\" class=\"data row0 col3\" >0.76</td>\n",
       "                        <td id=\"T_f8a7f810_0b9f_11eb_aeda_089798788ee7row0_col4\" class=\"data row0 col4\" >0.76</td>\n",
       "                        <td id=\"T_f8a7f810_0b9f_11eb_aeda_089798788ee7row0_col5\" class=\"data row0 col5\" >0.72</td>\n",
       "                        <td id=\"T_f8a7f810_0b9f_11eb_aeda_089798788ee7row0_col6\" class=\"data row0 col6\" >0.72</td>\n",
       "            </tr>\n",
       "            <tr>\n",
       "                        <th id=\"T_f8a7f810_0b9f_11eb_aeda_089798788ee7level0_row1\" class=\"row_heading level0 row1\" >1</th>\n",
       "                        <td id=\"T_f8a7f810_0b9f_11eb_aeda_089798788ee7row1_col0\" class=\"data row1 col0\" >0.96</td>\n",
       "                        <td id=\"T_f8a7f810_0b9f_11eb_aeda_089798788ee7row1_col1\" class=\"data row1 col1\" >0.94</td>\n",
       "                        <td id=\"T_f8a7f810_0b9f_11eb_aeda_089798788ee7row1_col2\" class=\"data row1 col2\" >0.83</td>\n",
       "                        <td id=\"T_f8a7f810_0b9f_11eb_aeda_089798788ee7row1_col3\" class=\"data row1 col3\" >0.85</td>\n",
       "                        <td id=\"T_f8a7f810_0b9f_11eb_aeda_089798788ee7row1_col4\" class=\"data row1 col4\" >0.84</td>\n",
       "                        <td id=\"T_f8a7f810_0b9f_11eb_aeda_089798788ee7row1_col5\" class=\"data row1 col5\" >0.82</td>\n",
       "                        <td id=\"T_f8a7f810_0b9f_11eb_aeda_089798788ee7row1_col6\" class=\"data row1 col6\" >0.82</td>\n",
       "            </tr>\n",
       "            <tr>\n",
       "                        <th id=\"T_f8a7f810_0b9f_11eb_aeda_089798788ee7level0_row2\" class=\"row_heading level0 row2\" >2</th>\n",
       "                        <td id=\"T_f8a7f810_0b9f_11eb_aeda_089798788ee7row2_col0\" class=\"data row2 col0\" >0.95</td>\n",
       "                        <td id=\"T_f8a7f810_0b9f_11eb_aeda_089798788ee7row2_col1\" class=\"data row2 col1\" >0.89</td>\n",
       "                        <td id=\"T_f8a7f810_0b9f_11eb_aeda_089798788ee7row2_col2\" class=\"data row2 col2\" >0.72</td>\n",
       "                        <td id=\"T_f8a7f810_0b9f_11eb_aeda_089798788ee7row2_col3\" class=\"data row2 col3\" >0.89</td>\n",
       "                        <td id=\"T_f8a7f810_0b9f_11eb_aeda_089798788ee7row2_col4\" class=\"data row2 col4\" >0.80</td>\n",
       "                        <td id=\"T_f8a7f810_0b9f_11eb_aeda_089798788ee7row2_col5\" class=\"data row2 col5\" >0.77</td>\n",
       "                        <td id=\"T_f8a7f810_0b9f_11eb_aeda_089798788ee7row2_col6\" class=\"data row2 col6\" >0.78</td>\n",
       "            </tr>\n",
       "            <tr>\n",
       "                        <th id=\"T_f8a7f810_0b9f_11eb_aeda_089798788ee7level0_row3\" class=\"row_heading level0 row3\" >3</th>\n",
       "                        <td id=\"T_f8a7f810_0b9f_11eb_aeda_089798788ee7row3_col0\" class=\"data row3 col0\" >0.96</td>\n",
       "                        <td id=\"T_f8a7f810_0b9f_11eb_aeda_089798788ee7row3_col1\" class=\"data row3 col1\" >0.91</td>\n",
       "                        <td id=\"T_f8a7f810_0b9f_11eb_aeda_089798788ee7row3_col2\" class=\"data row3 col2\" >0.75</td>\n",
       "                        <td id=\"T_f8a7f810_0b9f_11eb_aeda_089798788ee7row3_col3\" class=\"data row3 col3\" >0.92</td>\n",
       "                        <td id=\"T_f8a7f810_0b9f_11eb_aeda_089798788ee7row3_col4\" class=\"data row3 col4\" >0.82</td>\n",
       "                        <td id=\"T_f8a7f810_0b9f_11eb_aeda_089798788ee7row3_col5\" class=\"data row3 col5\" >0.80</td>\n",
       "                        <td id=\"T_f8a7f810_0b9f_11eb_aeda_089798788ee7row3_col6\" class=\"data row3 col6\" >0.81</td>\n",
       "            </tr>\n",
       "            <tr>\n",
       "                        <th id=\"T_f8a7f810_0b9f_11eb_aeda_089798788ee7level0_row4\" class=\"row_heading level0 row4\" >4</th>\n",
       "                        <td id=\"T_f8a7f810_0b9f_11eb_aeda_089798788ee7row4_col0\" class=\"data row4 col0\" >0.94</td>\n",
       "                        <td id=\"T_f8a7f810_0b9f_11eb_aeda_089798788ee7row4_col1\" class=\"data row4 col1\" >0.87</td>\n",
       "                        <td id=\"T_f8a7f810_0b9f_11eb_aeda_089798788ee7row4_col2\" class=\"data row4 col2\" >0.67</td>\n",
       "                        <td id=\"T_f8a7f810_0b9f_11eb_aeda_089798788ee7row4_col3\" class=\"data row4 col3\" >0.79</td>\n",
       "                        <td id=\"T_f8a7f810_0b9f_11eb_aeda_089798788ee7row4_col4\" class=\"data row4 col4\" >0.72</td>\n",
       "                        <td id=\"T_f8a7f810_0b9f_11eb_aeda_089798788ee7row4_col5\" class=\"data row4 col5\" >0.69</td>\n",
       "                        <td id=\"T_f8a7f810_0b9f_11eb_aeda_089798788ee7row4_col6\" class=\"data row4 col6\" >0.69</td>\n",
       "            </tr>\n",
       "            <tr>\n",
       "                        <th id=\"T_f8a7f810_0b9f_11eb_aeda_089798788ee7level0_row5\" class=\"row_heading level0 row5\" >Mean</th>\n",
       "                        <td id=\"T_f8a7f810_0b9f_11eb_aeda_089798788ee7row5_col0\" class=\"data row5 col0\" >0.95</td>\n",
       "                        <td id=\"T_f8a7f810_0b9f_11eb_aeda_089798788ee7row5_col1\" class=\"data row5 col1\" >0.90</td>\n",
       "                        <td id=\"T_f8a7f810_0b9f_11eb_aeda_089798788ee7row5_col2\" class=\"data row5 col2\" >0.74</td>\n",
       "                        <td id=\"T_f8a7f810_0b9f_11eb_aeda_089798788ee7row5_col3\" class=\"data row5 col3\" >0.84</td>\n",
       "                        <td id=\"T_f8a7f810_0b9f_11eb_aeda_089798788ee7row5_col4\" class=\"data row5 col4\" >0.79</td>\n",
       "                        <td id=\"T_f8a7f810_0b9f_11eb_aeda_089798788ee7row5_col5\" class=\"data row5 col5\" >0.76</td>\n",
       "                        <td id=\"T_f8a7f810_0b9f_11eb_aeda_089798788ee7row5_col6\" class=\"data row5 col6\" >0.76</td>\n",
       "            </tr>\n",
       "            <tr>\n",
       "                        <th id=\"T_f8a7f810_0b9f_11eb_aeda_089798788ee7level0_row6\" class=\"row_heading level0 row6\" >SD</th>\n",
       "                        <td id=\"T_f8a7f810_0b9f_11eb_aeda_089798788ee7row6_col0\" class=\"data row6 col0\" >0.01</td>\n",
       "                        <td id=\"T_f8a7f810_0b9f_11eb_aeda_089798788ee7row6_col1\" class=\"data row6 col1\" >0.02</td>\n",
       "                        <td id=\"T_f8a7f810_0b9f_11eb_aeda_089798788ee7row6_col2\" class=\"data row6 col2\" >0.05</td>\n",
       "                        <td id=\"T_f8a7f810_0b9f_11eb_aeda_089798788ee7row6_col3\" class=\"data row6 col3\" >0.06</td>\n",
       "                        <td id=\"T_f8a7f810_0b9f_11eb_aeda_089798788ee7row6_col4\" class=\"data row6 col4\" >0.04</td>\n",
       "                        <td id=\"T_f8a7f810_0b9f_11eb_aeda_089798788ee7row6_col5\" class=\"data row6 col5\" >0.05</td>\n",
       "                        <td id=\"T_f8a7f810_0b9f_11eb_aeda_089798788ee7row6_col6\" class=\"data row6 col6\" >0.05</td>\n",
       "            </tr>\n",
       "    </tbody></table>"
      ],
      "text/plain": [
       "<pandas.io.formats.style.Styler at 0x294000a82c8>"
      ]
     },
     "metadata": {},
     "output_type": "display_data"
    }
   ],
   "source": [
    "mlp = create_model('mlp')\n",
    "ensemble = stack_models(model,fold =5, round =2, meta_model = mlp)"
   ]
  },
  {
   "cell_type": "markdown",
   "metadata": {},
   "source": [
    "## Selecting Best model"
   ]
  },
  {
   "cell_type": "code",
   "execution_count": 19,
   "metadata": {},
   "outputs": [],
   "source": [
    "best = automl(optimize = 'F1')"
   ]
  },
  {
   "cell_type": "code",
   "execution_count": 20,
   "metadata": {},
   "outputs": [
    {
     "data": {
      "text/plain": [
       "LGBMClassifier(boosting_type='gbdt', class_weight=None, colsample_bytree=1.0,\n",
       "               importance_type='split', learning_rate=0.1, max_depth=-1,\n",
       "               min_child_samples=20, min_child_weight=0.001, min_split_gain=0.0,\n",
       "               n_estimators=100, n_jobs=-1, num_leaves=31, objective=None,\n",
       "               random_state=1168, reg_alpha=0.0, reg_lambda=0.0, silent=True,\n",
       "               subsample=1.0, subsample_for_bin=200000, subsample_freq=0)"
      ]
     },
     "execution_count": 20,
     "metadata": {},
     "output_type": "execute_result"
    }
   ],
   "source": [
    "best"
   ]
  },
  {
   "cell_type": "markdown",
   "metadata": {},
   "source": [
    "###### Optimizing threshold"
   ]
  },
  {
   "cell_type": "code",
   "execution_count": 21,
   "metadata": {
    "scrolled": true
   },
   "outputs": [
    {
     "data": {
      "text/html": [
       "        <script type=\"text/javascript\">\n",
       "        window.PlotlyConfig = {MathJaxConfig: 'local'};\n",
       "        if (window.MathJax) {MathJax.Hub.Config({SVG: {font: \"STIX-Web\"}});}\n",
       "        if (typeof require !== 'undefined') {\n",
       "        require.undef(\"plotly\");\n",
       "        requirejs.config({\n",
       "            paths: {\n",
       "                'plotly': ['https://cdn.plot.ly/plotly-latest.min']\n",
       "            }\n",
       "        });\n",
       "        require(['plotly'], function(Plotly) {\n",
       "            window._Plotly = Plotly;\n",
       "        });\n",
       "        }\n",
       "        </script>\n",
       "        "
      ]
     },
     "metadata": {},
     "output_type": "display_data"
    },
    {
     "data": {
      "application/vnd.plotly.v1+json": {
       "config": {
        "plotlyServerURL": "https://plot.ly"
       },
       "data": [
        {
         "hovertemplate": "Probability Threshold=%{x}<br>Cost Function=%{y}<extra></extra>",
         "legendgroup": "",
         "line": {
          "color": "#636efa",
          "dash": "solid",
          "shape": "linear"
         },
         "mode": "lines",
         "name": "",
         "orientation": "v",
         "showlegend": false,
         "type": "scatter",
         "x": [
          0,
          0.01,
          0.02,
          0.03,
          0.04,
          0.05,
          0.06,
          0.07,
          0.08,
          0.09,
          0.1,
          0.11,
          0.12,
          0.13,
          0.14,
          0.15,
          0.16,
          0.17,
          0.18,
          0.19,
          0.2,
          0.21,
          0.22,
          0.23,
          0.24,
          0.25,
          0.26,
          0.27,
          0.28,
          0.29,
          0.3,
          0.31,
          0.32,
          0.33,
          0.34,
          0.35000000000000003,
          0.36,
          0.37,
          0.38,
          0.39,
          0.4,
          0.41000000000000003,
          0.42,
          0.43,
          0.44,
          0.45,
          0.46,
          0.47000000000000003,
          0.48,
          0.49,
          0.5,
          0.51,
          0.52,
          0.53,
          0.54,
          0.55,
          0.56,
          0.5700000000000001,
          0.58,
          0.59,
          0.6,
          0.61,
          0.62,
          0.63,
          0.64,
          0.65,
          0.66,
          0.67,
          0.68,
          0.6900000000000001,
          0.7000000000000001,
          0.71,
          0.72,
          0.73,
          0.74,
          0.75,
          0.76,
          0.77,
          0.78,
          0.79,
          0.8,
          0.81,
          0.8200000000000001,
          0.8300000000000001,
          0.84,
          0.85,
          0.86,
          0.87,
          0.88,
          0.89,
          0.9,
          0.91,
          0.92,
          0.93,
          0.9400000000000001,
          0.9500000000000001,
          0.96,
          0.97,
          0.98,
          0.99
         ],
         "xaxis": "x",
         "y": [
          0,
          349500,
          456000,
          501000,
          516000,
          523500,
          525000,
          526500,
          526500,
          526500,
          528000,
          529500,
          531000,
          531000,
          531000,
          531000,
          531000,
          531000,
          531000,
          531000,
          531000,
          532500,
          532500,
          532500,
          532500,
          532500,
          532500,
          532500,
          532500,
          532500,
          532500,
          532500,
          532500,
          532500,
          532500,
          532500,
          532500,
          532500,
          532500,
          532500,
          532500,
          532500,
          532500,
          532500,
          532500,
          532500,
          532500,
          532500,
          532500,
          532500,
          532500,
          532500,
          532500,
          532500,
          532500,
          532500,
          532500,
          532500,
          532500,
          532500,
          532500,
          527500,
          527500,
          527500,
          527500,
          527500,
          522500,
          517500,
          517500,
          517500,
          517500,
          517500,
          517500,
          512500,
          512500,
          512500,
          507500,
          507500,
          502500,
          502500,
          502500,
          502500,
          502500,
          497500,
          497500,
          497500,
          492500,
          487500,
          482500,
          472500,
          472500,
          462500,
          452500,
          447500,
          447500,
          437500,
          432500,
          422500,
          397500,
          367500
         ],
         "yaxis": "y"
        }
       ],
       "layout": {
        "legend": {
         "tracegroupgap": 0
        },
        "margin": {
         "t": 60
        },
        "plot_bgcolor": "rgb(245,245,245)",
        "shapes": [
         {
          "line": {
           "color": "red",
           "width": 2
          },
          "type": "line",
          "x0": 0.5,
          "x1": 0.5,
          "y0": 0,
          "y1": 532500
         }
        ],
        "template": {
         "data": {
          "bar": [
           {
            "error_x": {
             "color": "#2a3f5f"
            },
            "error_y": {
             "color": "#2a3f5f"
            },
            "marker": {
             "line": {
              "color": "#E5ECF6",
              "width": 0.5
             }
            },
            "type": "bar"
           }
          ],
          "barpolar": [
           {
            "marker": {
             "line": {
              "color": "#E5ECF6",
              "width": 0.5
             }
            },
            "type": "barpolar"
           }
          ],
          "carpet": [
           {
            "aaxis": {
             "endlinecolor": "#2a3f5f",
             "gridcolor": "white",
             "linecolor": "white",
             "minorgridcolor": "white",
             "startlinecolor": "#2a3f5f"
            },
            "baxis": {
             "endlinecolor": "#2a3f5f",
             "gridcolor": "white",
             "linecolor": "white",
             "minorgridcolor": "white",
             "startlinecolor": "#2a3f5f"
            },
            "type": "carpet"
           }
          ],
          "choropleth": [
           {
            "colorbar": {
             "outlinewidth": 0,
             "ticks": ""
            },
            "type": "choropleth"
           }
          ],
          "contour": [
           {
            "colorbar": {
             "outlinewidth": 0,
             "ticks": ""
            },
            "colorscale": [
             [
              0,
              "#0d0887"
             ],
             [
              0.1111111111111111,
              "#46039f"
             ],
             [
              0.2222222222222222,
              "#7201a8"
             ],
             [
              0.3333333333333333,
              "#9c179e"
             ],
             [
              0.4444444444444444,
              "#bd3786"
             ],
             [
              0.5555555555555556,
              "#d8576b"
             ],
             [
              0.6666666666666666,
              "#ed7953"
             ],
             [
              0.7777777777777778,
              "#fb9f3a"
             ],
             [
              0.8888888888888888,
              "#fdca26"
             ],
             [
              1,
              "#f0f921"
             ]
            ],
            "type": "contour"
           }
          ],
          "contourcarpet": [
           {
            "colorbar": {
             "outlinewidth": 0,
             "ticks": ""
            },
            "type": "contourcarpet"
           }
          ],
          "heatmap": [
           {
            "colorbar": {
             "outlinewidth": 0,
             "ticks": ""
            },
            "colorscale": [
             [
              0,
              "#0d0887"
             ],
             [
              0.1111111111111111,
              "#46039f"
             ],
             [
              0.2222222222222222,
              "#7201a8"
             ],
             [
              0.3333333333333333,
              "#9c179e"
             ],
             [
              0.4444444444444444,
              "#bd3786"
             ],
             [
              0.5555555555555556,
              "#d8576b"
             ],
             [
              0.6666666666666666,
              "#ed7953"
             ],
             [
              0.7777777777777778,
              "#fb9f3a"
             ],
             [
              0.8888888888888888,
              "#fdca26"
             ],
             [
              1,
              "#f0f921"
             ]
            ],
            "type": "heatmap"
           }
          ],
          "heatmapgl": [
           {
            "colorbar": {
             "outlinewidth": 0,
             "ticks": ""
            },
            "colorscale": [
             [
              0,
              "#0d0887"
             ],
             [
              0.1111111111111111,
              "#46039f"
             ],
             [
              0.2222222222222222,
              "#7201a8"
             ],
             [
              0.3333333333333333,
              "#9c179e"
             ],
             [
              0.4444444444444444,
              "#bd3786"
             ],
             [
              0.5555555555555556,
              "#d8576b"
             ],
             [
              0.6666666666666666,
              "#ed7953"
             ],
             [
              0.7777777777777778,
              "#fb9f3a"
             ],
             [
              0.8888888888888888,
              "#fdca26"
             ],
             [
              1,
              "#f0f921"
             ]
            ],
            "type": "heatmapgl"
           }
          ],
          "histogram": [
           {
            "marker": {
             "colorbar": {
              "outlinewidth": 0,
              "ticks": ""
             }
            },
            "type": "histogram"
           }
          ],
          "histogram2d": [
           {
            "colorbar": {
             "outlinewidth": 0,
             "ticks": ""
            },
            "colorscale": [
             [
              0,
              "#0d0887"
             ],
             [
              0.1111111111111111,
              "#46039f"
             ],
             [
              0.2222222222222222,
              "#7201a8"
             ],
             [
              0.3333333333333333,
              "#9c179e"
             ],
             [
              0.4444444444444444,
              "#bd3786"
             ],
             [
              0.5555555555555556,
              "#d8576b"
             ],
             [
              0.6666666666666666,
              "#ed7953"
             ],
             [
              0.7777777777777778,
              "#fb9f3a"
             ],
             [
              0.8888888888888888,
              "#fdca26"
             ],
             [
              1,
              "#f0f921"
             ]
            ],
            "type": "histogram2d"
           }
          ],
          "histogram2dcontour": [
           {
            "colorbar": {
             "outlinewidth": 0,
             "ticks": ""
            },
            "colorscale": [
             [
              0,
              "#0d0887"
             ],
             [
              0.1111111111111111,
              "#46039f"
             ],
             [
              0.2222222222222222,
              "#7201a8"
             ],
             [
              0.3333333333333333,
              "#9c179e"
             ],
             [
              0.4444444444444444,
              "#bd3786"
             ],
             [
              0.5555555555555556,
              "#d8576b"
             ],
             [
              0.6666666666666666,
              "#ed7953"
             ],
             [
              0.7777777777777778,
              "#fb9f3a"
             ],
             [
              0.8888888888888888,
              "#fdca26"
             ],
             [
              1,
              "#f0f921"
             ]
            ],
            "type": "histogram2dcontour"
           }
          ],
          "mesh3d": [
           {
            "colorbar": {
             "outlinewidth": 0,
             "ticks": ""
            },
            "type": "mesh3d"
           }
          ],
          "parcoords": [
           {
            "line": {
             "colorbar": {
              "outlinewidth": 0,
              "ticks": ""
             }
            },
            "type": "parcoords"
           }
          ],
          "pie": [
           {
            "automargin": true,
            "type": "pie"
           }
          ],
          "scatter": [
           {
            "marker": {
             "colorbar": {
              "outlinewidth": 0,
              "ticks": ""
             }
            },
            "type": "scatter"
           }
          ],
          "scatter3d": [
           {
            "line": {
             "colorbar": {
              "outlinewidth": 0,
              "ticks": ""
             }
            },
            "marker": {
             "colorbar": {
              "outlinewidth": 0,
              "ticks": ""
             }
            },
            "type": "scatter3d"
           }
          ],
          "scattercarpet": [
           {
            "marker": {
             "colorbar": {
              "outlinewidth": 0,
              "ticks": ""
             }
            },
            "type": "scattercarpet"
           }
          ],
          "scattergeo": [
           {
            "marker": {
             "colorbar": {
              "outlinewidth": 0,
              "ticks": ""
             }
            },
            "type": "scattergeo"
           }
          ],
          "scattergl": [
           {
            "marker": {
             "colorbar": {
              "outlinewidth": 0,
              "ticks": ""
             }
            },
            "type": "scattergl"
           }
          ],
          "scattermapbox": [
           {
            "marker": {
             "colorbar": {
              "outlinewidth": 0,
              "ticks": ""
             }
            },
            "type": "scattermapbox"
           }
          ],
          "scatterpolar": [
           {
            "marker": {
             "colorbar": {
              "outlinewidth": 0,
              "ticks": ""
             }
            },
            "type": "scatterpolar"
           }
          ],
          "scatterpolargl": [
           {
            "marker": {
             "colorbar": {
              "outlinewidth": 0,
              "ticks": ""
             }
            },
            "type": "scatterpolargl"
           }
          ],
          "scatterternary": [
           {
            "marker": {
             "colorbar": {
              "outlinewidth": 0,
              "ticks": ""
             }
            },
            "type": "scatterternary"
           }
          ],
          "surface": [
           {
            "colorbar": {
             "outlinewidth": 0,
             "ticks": ""
            },
            "colorscale": [
             [
              0,
              "#0d0887"
             ],
             [
              0.1111111111111111,
              "#46039f"
             ],
             [
              0.2222222222222222,
              "#7201a8"
             ],
             [
              0.3333333333333333,
              "#9c179e"
             ],
             [
              0.4444444444444444,
              "#bd3786"
             ],
             [
              0.5555555555555556,
              "#d8576b"
             ],
             [
              0.6666666666666666,
              "#ed7953"
             ],
             [
              0.7777777777777778,
              "#fb9f3a"
             ],
             [
              0.8888888888888888,
              "#fdca26"
             ],
             [
              1,
              "#f0f921"
             ]
            ],
            "type": "surface"
           }
          ],
          "table": [
           {
            "cells": {
             "fill": {
              "color": "#EBF0F8"
             },
             "line": {
              "color": "white"
             }
            },
            "header": {
             "fill": {
              "color": "#C8D4E3"
             },
             "line": {
              "color": "white"
             }
            },
            "type": "table"
           }
          ]
         },
         "layout": {
          "annotationdefaults": {
           "arrowcolor": "#2a3f5f",
           "arrowhead": 0,
           "arrowwidth": 1
          },
          "coloraxis": {
           "colorbar": {
            "outlinewidth": 0,
            "ticks": ""
           }
          },
          "colorscale": {
           "diverging": [
            [
             0,
             "#8e0152"
            ],
            [
             0.1,
             "#c51b7d"
            ],
            [
             0.2,
             "#de77ae"
            ],
            [
             0.3,
             "#f1b6da"
            ],
            [
             0.4,
             "#fde0ef"
            ],
            [
             0.5,
             "#f7f7f7"
            ],
            [
             0.6,
             "#e6f5d0"
            ],
            [
             0.7,
             "#b8e186"
            ],
            [
             0.8,
             "#7fbc41"
            ],
            [
             0.9,
             "#4d9221"
            ],
            [
             1,
             "#276419"
            ]
           ],
           "sequential": [
            [
             0,
             "#0d0887"
            ],
            [
             0.1111111111111111,
             "#46039f"
            ],
            [
             0.2222222222222222,
             "#7201a8"
            ],
            [
             0.3333333333333333,
             "#9c179e"
            ],
            [
             0.4444444444444444,
             "#bd3786"
            ],
            [
             0.5555555555555556,
             "#d8576b"
            ],
            [
             0.6666666666666666,
             "#ed7953"
            ],
            [
             0.7777777777777778,
             "#fb9f3a"
            ],
            [
             0.8888888888888888,
             "#fdca26"
            ],
            [
             1,
             "#f0f921"
            ]
           ],
           "sequentialminus": [
            [
             0,
             "#0d0887"
            ],
            [
             0.1111111111111111,
             "#46039f"
            ],
            [
             0.2222222222222222,
             "#7201a8"
            ],
            [
             0.3333333333333333,
             "#9c179e"
            ],
            [
             0.4444444444444444,
             "#bd3786"
            ],
            [
             0.5555555555555556,
             "#d8576b"
            ],
            [
             0.6666666666666666,
             "#ed7953"
            ],
            [
             0.7777777777777778,
             "#fb9f3a"
            ],
            [
             0.8888888888888888,
             "#fdca26"
            ],
            [
             1,
             "#f0f921"
            ]
           ]
          },
          "colorway": [
           "#636efa",
           "#EF553B",
           "#00cc96",
           "#ab63fa",
           "#FFA15A",
           "#19d3f3",
           "#FF6692",
           "#B6E880",
           "#FF97FF",
           "#FECB52"
          ],
          "font": {
           "color": "#2a3f5f"
          },
          "geo": {
           "bgcolor": "white",
           "lakecolor": "white",
           "landcolor": "#E5ECF6",
           "showlakes": true,
           "showland": true,
           "subunitcolor": "white"
          },
          "hoverlabel": {
           "align": "left"
          },
          "hovermode": "closest",
          "mapbox": {
           "style": "light"
          },
          "paper_bgcolor": "white",
          "plot_bgcolor": "#E5ECF6",
          "polar": {
           "angularaxis": {
            "gridcolor": "white",
            "linecolor": "white",
            "ticks": ""
           },
           "bgcolor": "#E5ECF6",
           "radialaxis": {
            "gridcolor": "white",
            "linecolor": "white",
            "ticks": ""
           }
          },
          "scene": {
           "xaxis": {
            "backgroundcolor": "#E5ECF6",
            "gridcolor": "white",
            "gridwidth": 2,
            "linecolor": "white",
            "showbackground": true,
            "ticks": "",
            "zerolinecolor": "white"
           },
           "yaxis": {
            "backgroundcolor": "#E5ECF6",
            "gridcolor": "white",
            "gridwidth": 2,
            "linecolor": "white",
            "showbackground": true,
            "ticks": "",
            "zerolinecolor": "white"
           },
           "zaxis": {
            "backgroundcolor": "#E5ECF6",
            "gridcolor": "white",
            "gridwidth": 2,
            "linecolor": "white",
            "showbackground": true,
            "ticks": "",
            "zerolinecolor": "white"
           }
          },
          "shapedefaults": {
           "line": {
            "color": "#2a3f5f"
           }
          },
          "ternary": {
           "aaxis": {
            "gridcolor": "white",
            "linecolor": "white",
            "ticks": ""
           },
           "baxis": {
            "gridcolor": "white",
            "linecolor": "white",
            "ticks": ""
           },
           "bgcolor": "#E5ECF6",
           "caxis": {
            "gridcolor": "white",
            "linecolor": "white",
            "ticks": ""
           }
          },
          "title": {
           "x": 0.05
          },
          "xaxis": {
           "automargin": true,
           "gridcolor": "white",
           "linecolor": "white",
           "ticks": "",
           "title": {
            "standoff": 15
           },
           "zerolinecolor": "white",
           "zerolinewidth": 2
          },
          "yaxis": {
           "automargin": true,
           "gridcolor": "white",
           "linecolor": "white",
           "ticks": "",
           "title": {
            "standoff": 15
           },
           "zerolinecolor": "white",
           "zerolinewidth": 2
          }
         }
        },
        "title": {
         "text": "LGBMClassifier Probability Threshold Optimization",
         "x": 0.45,
         "xanchor": "center",
         "y": 0.95,
         "yanchor": "top"
        },
        "xaxis": {
         "anchor": "y",
         "domain": [
          0,
          1
         ],
         "title": {
          "text": "Probability Threshold"
         }
        },
        "yaxis": {
         "anchor": "x",
         "domain": [
          0,
          1
         ],
         "title": {
          "text": "Cost Function"
         }
        }
       }
      },
      "text/html": [
       "<div>                            <div id=\"9ac88ce6-efbd-4250-8b19-9e4c795547a4\" class=\"plotly-graph-div\" style=\"height:525px; width:100%;\"></div>            <script type=\"text/javascript\">                require([\"plotly\"], function(Plotly) {                    window.PLOTLYENV=window.PLOTLYENV || {};                                    if (document.getElementById(\"9ac88ce6-efbd-4250-8b19-9e4c795547a4\")) {                    Plotly.newPlot(                        \"9ac88ce6-efbd-4250-8b19-9e4c795547a4\",                        [{\"hovertemplate\": \"Probability Threshold=%{x}<br>Cost Function=%{y}<extra></extra>\", \"legendgroup\": \"\", \"line\": {\"color\": \"#636efa\", \"dash\": \"solid\", \"shape\": \"linear\"}, \"mode\": \"lines\", \"name\": \"\", \"orientation\": \"v\", \"showlegend\": false, \"type\": \"scatter\", \"x\": [0.0, 0.01, 0.02, 0.03, 0.04, 0.05, 0.06, 0.07, 0.08, 0.09, 0.1, 0.11, 0.12, 0.13, 0.14, 0.15, 0.16, 0.17, 0.18, 0.19, 0.2, 0.21, 0.22, 0.23, 0.24, 0.25, 0.26, 0.27, 0.28, 0.29, 0.3, 0.31, 0.32, 0.33, 0.34, 0.35000000000000003, 0.36, 0.37, 0.38, 0.39, 0.4, 0.41000000000000003, 0.42, 0.43, 0.44, 0.45, 0.46, 0.47000000000000003, 0.48, 0.49, 0.5, 0.51, 0.52, 0.53, 0.54, 0.55, 0.56, 0.5700000000000001, 0.58, 0.59, 0.6, 0.61, 0.62, 0.63, 0.64, 0.65, 0.66, 0.67, 0.68, 0.6900000000000001, 0.7000000000000001, 0.71, 0.72, 0.73, 0.74, 0.75, 0.76, 0.77, 0.78, 0.79, 0.8, 0.81, 0.8200000000000001, 0.8300000000000001, 0.84, 0.85, 0.86, 0.87, 0.88, 0.89, 0.9, 0.91, 0.92, 0.93, 0.9400000000000001, 0.9500000000000001, 0.96, 0.97, 0.98, 0.99], \"xaxis\": \"x\", \"y\": [0, 349500, 456000, 501000, 516000, 523500, 525000, 526500, 526500, 526500, 528000, 529500, 531000, 531000, 531000, 531000, 531000, 531000, 531000, 531000, 531000, 532500, 532500, 532500, 532500, 532500, 532500, 532500, 532500, 532500, 532500, 532500, 532500, 532500, 532500, 532500, 532500, 532500, 532500, 532500, 532500, 532500, 532500, 532500, 532500, 532500, 532500, 532500, 532500, 532500, 532500, 532500, 532500, 532500, 532500, 532500, 532500, 532500, 532500, 532500, 532500, 527500, 527500, 527500, 527500, 527500, 522500, 517500, 517500, 517500, 517500, 517500, 517500, 512500, 512500, 512500, 507500, 507500, 502500, 502500, 502500, 502500, 502500, 497500, 497500, 497500, 492500, 487500, 482500, 472500, 472500, 462500, 452500, 447500, 447500, 437500, 432500, 422500, 397500, 367500], \"yaxis\": \"y\"}],                        {\"legend\": {\"tracegroupgap\": 0}, \"margin\": {\"t\": 60}, \"plot_bgcolor\": \"rgb(245,245,245)\", \"shapes\": [{\"line\": {\"color\": \"red\", \"width\": 2}, \"type\": \"line\", \"x0\": 0.5, \"x1\": 0.5, \"y0\": 0, \"y1\": 532500}], \"template\": {\"data\": {\"bar\": [{\"error_x\": {\"color\": \"#2a3f5f\"}, \"error_y\": {\"color\": \"#2a3f5f\"}, \"marker\": {\"line\": {\"color\": \"#E5ECF6\", \"width\": 0.5}}, \"type\": \"bar\"}], \"barpolar\": [{\"marker\": {\"line\": {\"color\": \"#E5ECF6\", \"width\": 0.5}}, \"type\": \"barpolar\"}], \"carpet\": [{\"aaxis\": {\"endlinecolor\": \"#2a3f5f\", \"gridcolor\": \"white\", \"linecolor\": \"white\", \"minorgridcolor\": \"white\", \"startlinecolor\": \"#2a3f5f\"}, \"baxis\": {\"endlinecolor\": \"#2a3f5f\", \"gridcolor\": \"white\", \"linecolor\": \"white\", \"minorgridcolor\": \"white\", \"startlinecolor\": \"#2a3f5f\"}, \"type\": \"carpet\"}], \"choropleth\": [{\"colorbar\": {\"outlinewidth\": 0, \"ticks\": \"\"}, \"type\": \"choropleth\"}], \"contour\": [{\"colorbar\": {\"outlinewidth\": 0, \"ticks\": \"\"}, \"colorscale\": [[0.0, \"#0d0887\"], [0.1111111111111111, \"#46039f\"], [0.2222222222222222, \"#7201a8\"], [0.3333333333333333, \"#9c179e\"], [0.4444444444444444, \"#bd3786\"], [0.5555555555555556, \"#d8576b\"], [0.6666666666666666, \"#ed7953\"], [0.7777777777777778, \"#fb9f3a\"], [0.8888888888888888, \"#fdca26\"], [1.0, \"#f0f921\"]], \"type\": \"contour\"}], \"contourcarpet\": [{\"colorbar\": {\"outlinewidth\": 0, \"ticks\": \"\"}, \"type\": \"contourcarpet\"}], \"heatmap\": [{\"colorbar\": {\"outlinewidth\": 0, \"ticks\": \"\"}, \"colorscale\": [[0.0, \"#0d0887\"], [0.1111111111111111, \"#46039f\"], [0.2222222222222222, \"#7201a8\"], [0.3333333333333333, \"#9c179e\"], [0.4444444444444444, \"#bd3786\"], [0.5555555555555556, \"#d8576b\"], [0.6666666666666666, \"#ed7953\"], [0.7777777777777778, \"#fb9f3a\"], [0.8888888888888888, \"#fdca26\"], [1.0, \"#f0f921\"]], \"type\": \"heatmap\"}], \"heatmapgl\": [{\"colorbar\": {\"outlinewidth\": 0, \"ticks\": \"\"}, \"colorscale\": [[0.0, \"#0d0887\"], [0.1111111111111111, \"#46039f\"], [0.2222222222222222, \"#7201a8\"], [0.3333333333333333, \"#9c179e\"], [0.4444444444444444, \"#bd3786\"], [0.5555555555555556, \"#d8576b\"], [0.6666666666666666, \"#ed7953\"], [0.7777777777777778, \"#fb9f3a\"], [0.8888888888888888, \"#fdca26\"], [1.0, \"#f0f921\"]], \"type\": \"heatmapgl\"}], \"histogram\": [{\"marker\": {\"colorbar\": {\"outlinewidth\": 0, \"ticks\": \"\"}}, \"type\": \"histogram\"}], \"histogram2d\": [{\"colorbar\": {\"outlinewidth\": 0, \"ticks\": \"\"}, \"colorscale\": [[0.0, \"#0d0887\"], [0.1111111111111111, \"#46039f\"], [0.2222222222222222, \"#7201a8\"], [0.3333333333333333, \"#9c179e\"], [0.4444444444444444, \"#bd3786\"], [0.5555555555555556, \"#d8576b\"], [0.6666666666666666, \"#ed7953\"], [0.7777777777777778, \"#fb9f3a\"], [0.8888888888888888, \"#fdca26\"], [1.0, \"#f0f921\"]], \"type\": \"histogram2d\"}], \"histogram2dcontour\": [{\"colorbar\": {\"outlinewidth\": 0, \"ticks\": \"\"}, \"colorscale\": [[0.0, \"#0d0887\"], [0.1111111111111111, \"#46039f\"], [0.2222222222222222, \"#7201a8\"], [0.3333333333333333, \"#9c179e\"], [0.4444444444444444, \"#bd3786\"], [0.5555555555555556, \"#d8576b\"], [0.6666666666666666, \"#ed7953\"], [0.7777777777777778, \"#fb9f3a\"], [0.8888888888888888, \"#fdca26\"], [1.0, \"#f0f921\"]], \"type\": \"histogram2dcontour\"}], \"mesh3d\": [{\"colorbar\": {\"outlinewidth\": 0, \"ticks\": \"\"}, \"type\": \"mesh3d\"}], \"parcoords\": [{\"line\": {\"colorbar\": {\"outlinewidth\": 0, \"ticks\": \"\"}}, \"type\": \"parcoords\"}], \"pie\": [{\"automargin\": true, \"type\": \"pie\"}], \"scatter\": [{\"marker\": {\"colorbar\": {\"outlinewidth\": 0, \"ticks\": \"\"}}, \"type\": \"scatter\"}], \"scatter3d\": [{\"line\": {\"colorbar\": {\"outlinewidth\": 0, \"ticks\": \"\"}}, \"marker\": {\"colorbar\": {\"outlinewidth\": 0, \"ticks\": \"\"}}, \"type\": \"scatter3d\"}], \"scattercarpet\": [{\"marker\": {\"colorbar\": {\"outlinewidth\": 0, \"ticks\": \"\"}}, \"type\": \"scattercarpet\"}], \"scattergeo\": [{\"marker\": {\"colorbar\": {\"outlinewidth\": 0, \"ticks\": \"\"}}, \"type\": \"scattergeo\"}], \"scattergl\": [{\"marker\": {\"colorbar\": {\"outlinewidth\": 0, \"ticks\": \"\"}}, \"type\": \"scattergl\"}], \"scattermapbox\": [{\"marker\": {\"colorbar\": {\"outlinewidth\": 0, \"ticks\": \"\"}}, \"type\": \"scattermapbox\"}], \"scatterpolar\": [{\"marker\": {\"colorbar\": {\"outlinewidth\": 0, \"ticks\": \"\"}}, \"type\": \"scatterpolar\"}], \"scatterpolargl\": [{\"marker\": {\"colorbar\": {\"outlinewidth\": 0, \"ticks\": \"\"}}, \"type\": \"scatterpolargl\"}], \"scatterternary\": [{\"marker\": {\"colorbar\": {\"outlinewidth\": 0, \"ticks\": \"\"}}, \"type\": \"scatterternary\"}], \"surface\": [{\"colorbar\": {\"outlinewidth\": 0, \"ticks\": \"\"}, \"colorscale\": [[0.0, \"#0d0887\"], [0.1111111111111111, \"#46039f\"], [0.2222222222222222, \"#7201a8\"], [0.3333333333333333, \"#9c179e\"], [0.4444444444444444, \"#bd3786\"], [0.5555555555555556, \"#d8576b\"], [0.6666666666666666, \"#ed7953\"], [0.7777777777777778, \"#fb9f3a\"], [0.8888888888888888, \"#fdca26\"], [1.0, \"#f0f921\"]], \"type\": \"surface\"}], \"table\": [{\"cells\": {\"fill\": {\"color\": \"#EBF0F8\"}, \"line\": {\"color\": \"white\"}}, \"header\": {\"fill\": {\"color\": \"#C8D4E3\"}, \"line\": {\"color\": \"white\"}}, \"type\": \"table\"}]}, \"layout\": {\"annotationdefaults\": {\"arrowcolor\": \"#2a3f5f\", \"arrowhead\": 0, \"arrowwidth\": 1}, \"coloraxis\": {\"colorbar\": {\"outlinewidth\": 0, \"ticks\": \"\"}}, \"colorscale\": {\"diverging\": [[0, \"#8e0152\"], [0.1, \"#c51b7d\"], [0.2, \"#de77ae\"], [0.3, \"#f1b6da\"], [0.4, \"#fde0ef\"], [0.5, \"#f7f7f7\"], [0.6, \"#e6f5d0\"], [0.7, \"#b8e186\"], [0.8, \"#7fbc41\"], [0.9, \"#4d9221\"], [1, \"#276419\"]], \"sequential\": [[0.0, \"#0d0887\"], [0.1111111111111111, \"#46039f\"], [0.2222222222222222, \"#7201a8\"], [0.3333333333333333, \"#9c179e\"], [0.4444444444444444, \"#bd3786\"], [0.5555555555555556, \"#d8576b\"], [0.6666666666666666, \"#ed7953\"], [0.7777777777777778, \"#fb9f3a\"], [0.8888888888888888, \"#fdca26\"], [1.0, \"#f0f921\"]], \"sequentialminus\": [[0.0, \"#0d0887\"], [0.1111111111111111, \"#46039f\"], [0.2222222222222222, \"#7201a8\"], [0.3333333333333333, \"#9c179e\"], [0.4444444444444444, \"#bd3786\"], [0.5555555555555556, \"#d8576b\"], [0.6666666666666666, \"#ed7953\"], [0.7777777777777778, \"#fb9f3a\"], [0.8888888888888888, \"#fdca26\"], [1.0, \"#f0f921\"]]}, \"colorway\": [\"#636efa\", \"#EF553B\", \"#00cc96\", \"#ab63fa\", \"#FFA15A\", \"#19d3f3\", \"#FF6692\", \"#B6E880\", \"#FF97FF\", \"#FECB52\"], \"font\": {\"color\": \"#2a3f5f\"}, \"geo\": {\"bgcolor\": \"white\", \"lakecolor\": \"white\", \"landcolor\": \"#E5ECF6\", \"showlakes\": true, \"showland\": true, \"subunitcolor\": \"white\"}, \"hoverlabel\": {\"align\": \"left\"}, \"hovermode\": \"closest\", \"mapbox\": {\"style\": \"light\"}, \"paper_bgcolor\": \"white\", \"plot_bgcolor\": \"#E5ECF6\", \"polar\": {\"angularaxis\": {\"gridcolor\": \"white\", \"linecolor\": \"white\", \"ticks\": \"\"}, \"bgcolor\": \"#E5ECF6\", \"radialaxis\": {\"gridcolor\": \"white\", \"linecolor\": \"white\", \"ticks\": \"\"}}, \"scene\": {\"xaxis\": {\"backgroundcolor\": \"#E5ECF6\", \"gridcolor\": \"white\", \"gridwidth\": 2, \"linecolor\": \"white\", \"showbackground\": true, \"ticks\": \"\", \"zerolinecolor\": \"white\"}, \"yaxis\": {\"backgroundcolor\": \"#E5ECF6\", \"gridcolor\": \"white\", \"gridwidth\": 2, \"linecolor\": \"white\", \"showbackground\": true, \"ticks\": \"\", \"zerolinecolor\": \"white\"}, \"zaxis\": {\"backgroundcolor\": \"#E5ECF6\", \"gridcolor\": \"white\", \"gridwidth\": 2, \"linecolor\": \"white\", \"showbackground\": true, \"ticks\": \"\", \"zerolinecolor\": \"white\"}}, \"shapedefaults\": {\"line\": {\"color\": \"#2a3f5f\"}}, \"ternary\": {\"aaxis\": {\"gridcolor\": \"white\", \"linecolor\": \"white\", \"ticks\": \"\"}, \"baxis\": {\"gridcolor\": \"white\", \"linecolor\": \"white\", \"ticks\": \"\"}, \"bgcolor\": \"#E5ECF6\", \"caxis\": {\"gridcolor\": \"white\", \"linecolor\": \"white\", \"ticks\": \"\"}}, \"title\": {\"x\": 0.05}, \"xaxis\": {\"automargin\": true, \"gridcolor\": \"white\", \"linecolor\": \"white\", \"ticks\": \"\", \"title\": {\"standoff\": 15}, \"zerolinecolor\": \"white\", \"zerolinewidth\": 2}, \"yaxis\": {\"automargin\": true, \"gridcolor\": \"white\", \"linecolor\": \"white\", \"ticks\": \"\", \"title\": {\"standoff\": 15}, \"zerolinecolor\": \"white\", \"zerolinewidth\": 2}}}, \"title\": {\"text\": \"LGBMClassifier Probability Threshold Optimization\", \"x\": 0.45, \"xanchor\": \"center\", \"y\": 0.95, \"yanchor\": \"top\"}, \"xaxis\": {\"anchor\": \"y\", \"domain\": [0.0, 1.0], \"title\": {\"text\": \"Probability Threshold\"}}, \"yaxis\": {\"anchor\": \"x\", \"domain\": [0.0, 1.0], \"title\": {\"text\": \"Cost Function\"}}},                        {\"responsive\": true}                    ).then(function(){\n",
       "                            \n",
       "var gd = document.getElementById('9ac88ce6-efbd-4250-8b19-9e4c795547a4');\n",
       "var x = new MutationObserver(function (mutations, observer) {{\n",
       "        var display = window.getComputedStyle(gd).display;\n",
       "        if (!display || display === 'none') {{\n",
       "            console.log([gd, 'removed!']);\n",
       "            Plotly.purge(gd);\n",
       "            observer.disconnect();\n",
       "        }}\n",
       "}});\n",
       "\n",
       "// Listen for the removal of the full notebook cells\n",
       "var notebookContainer = gd.closest('#notebook-container');\n",
       "if (notebookContainer) {{\n",
       "    x.observe(notebookContainer, {childList: true});\n",
       "}}\n",
       "\n",
       "// Listen for the clearing of the current output cell\n",
       "var outputEl = gd.closest('.output');\n",
       "if (outputEl) {{\n",
       "    x.observe(outputEl, {childList: true});\n",
       "}}\n",
       "\n",
       "                        })                };                });            </script>        </div>"
      ]
     },
     "metadata": {},
     "output_type": "display_data"
    },
    {
     "name": "stdout",
     "output_type": "stream",
     "text": [
      "Optimized Probability Threshold: 0.5 | Optimized Cost Function: 532500\n"
     ]
    }
   ],
   "source": [
    "optimize_threshold(best, true_negative = 1500, false_negative = -5000)"
   ]
  },
  {
   "cell_type": "code",
   "execution_count": 22,
   "metadata": {},
   "outputs": [
    {
     "data": {
      "text/html": [
       "<div>\n",
       "<style scoped>\n",
       "    .dataframe tbody tr th:only-of-type {\n",
       "        vertical-align: middle;\n",
       "    }\n",
       "\n",
       "    .dataframe tbody tr th {\n",
       "        vertical-align: top;\n",
       "    }\n",
       "\n",
       "    .dataframe thead th {\n",
       "        text-align: right;\n",
       "    }\n",
       "</style>\n",
       "<table border=\"1\" class=\"dataframe\">\n",
       "  <thead>\n",
       "    <tr style=\"text-align: right;\">\n",
       "      <th></th>\n",
       "      <th>Model</th>\n",
       "      <th>Accuracy</th>\n",
       "      <th>AUC</th>\n",
       "      <th>Recall</th>\n",
       "      <th>Prec.</th>\n",
       "      <th>F1</th>\n",
       "      <th>Kappa</th>\n",
       "      <th>MCC</th>\n",
       "    </tr>\n",
       "  </thead>\n",
       "  <tbody>\n",
       "    <tr>\n",
       "      <th>0</th>\n",
       "      <td>Light Gradient Boosting Machine</td>\n",
       "      <td>1.0</td>\n",
       "      <td>1.0</td>\n",
       "      <td>1.0</td>\n",
       "      <td>1.0</td>\n",
       "      <td>1.0</td>\n",
       "      <td>1.0</td>\n",
       "      <td>1.0</td>\n",
       "    </tr>\n",
       "  </tbody>\n",
       "</table>\n",
       "</div>"
      ],
      "text/plain": [
       "                             Model  Accuracy  AUC  Recall  Prec.   F1  Kappa  \\\n",
       "0  Light Gradient Boosting Machine       1.0  1.0     1.0    1.0  1.0    1.0   \n",
       "\n",
       "   MCC  \n",
       "0  1.0  "
      ]
     },
     "metadata": {},
     "output_type": "display_data"
    }
   ],
   "source": [
    "pred_holdout = predict_model(best)"
   ]
  },
  {
   "cell_type": "code",
   "execution_count": 23,
   "metadata": {},
   "outputs": [],
   "source": [
    "#pred_holdout = predict_model(best,probability_threshold=0.5)"
   ]
  },
  {
   "cell_type": "markdown",
   "metadata": {},
   "source": [
    "###### interpret model"
   ]
  },
  {
   "cell_type": "code",
   "execution_count": 25,
   "metadata": {},
   "outputs": [
    {
     "data": {
      "image/png": "[encoded data removed]",
      "text/plain": [
       "<Figure size 576x684 with 1 Axes>"
      ]
     },
     "metadata": {
      "needs_background": "light"
     },
     "output_type": "display_data"
    }
   ],
   "source": [
    "interpret_model(best)"
   ]
  },
  {
   "cell_type": "markdown",
   "metadata": {},
   "source": [
    "## Finalizing and Saving Model"
   ]
  },
  {
   "cell_type": "code",
   "execution_count": 26,
   "metadata": {},
   "outputs": [
    {
     "data": {
      "text/html": [
       "<div>\n",
       "<style scoped>\n",
       "    .dataframe tbody tr th:only-of-type {\n",
       "        vertical-align: middle;\n",
       "    }\n",
       "\n",
       "    .dataframe tbody tr th {\n",
       "        vertical-align: top;\n",
       "    }\n",
       "\n",
       "    .dataframe thead th {\n",
       "        text-align: right;\n",
       "    }\n",
       "</style>\n",
       "<table border=\"1\" class=\"dataframe\">\n",
       "  <thead>\n",
       "    <tr style=\"text-align: right;\">\n",
       "      <th></th>\n",
       "      <th>id</th>\n",
       "      <th>state</th>\n",
       "      <th>account_length</th>\n",
       "      <th>area_code</th>\n",
       "      <th>international_plan</th>\n",
       "      <th>voice_mail_plan</th>\n",
       "      <th>number_vmail_messages</th>\n",
       "      <th>total_day_minutes</th>\n",
       "      <th>total_day_calls</th>\n",
       "      <th>total_day_charge</th>\n",
       "      <th>...</th>\n",
       "      <th>total_eve_charge</th>\n",
       "      <th>total_night_minutes</th>\n",
       "      <th>total_night_calls</th>\n",
       "      <th>total_night_charge</th>\n",
       "      <th>total_intl_minutes</th>\n",
       "      <th>total_intl_calls</th>\n",
       "      <th>total_intl_charge</th>\n",
       "      <th>number_customer_service_calls</th>\n",
       "      <th>Label</th>\n",
       "      <th>Score</th>\n",
       "    </tr>\n",
       "  </thead>\n",
       "  <tbody>\n",
       "    <tr>\n",
       "      <th>0</th>\n",
       "      <td>1</td>\n",
       "      <td>KS</td>\n",
       "      <td>128</td>\n",
       "      <td>area_code_415</td>\n",
       "      <td>no</td>\n",
       "      <td>yes</td>\n",
       "      <td>25</td>\n",
       "      <td>265.1</td>\n",
       "      <td>110</td>\n",
       "      <td>45.07</td>\n",
       "      <td>...</td>\n",
       "      <td>16.78</td>\n",
       "      <td>244.7</td>\n",
       "      <td>91</td>\n",
       "      <td>11.01</td>\n",
       "      <td>10.0</td>\n",
       "      <td>3</td>\n",
       "      <td>2.70</td>\n",
       "      <td>1</td>\n",
       "      <td>no</td>\n",
       "      <td>0.0309</td>\n",
       "    </tr>\n",
       "    <tr>\n",
       "      <th>1</th>\n",
       "      <td>2</td>\n",
       "      <td>AL</td>\n",
       "      <td>118</td>\n",
       "      <td>area_code_510</td>\n",
       "      <td>yes</td>\n",
       "      <td>no</td>\n",
       "      <td>0</td>\n",
       "      <td>223.4</td>\n",
       "      <td>98</td>\n",
       "      <td>37.98</td>\n",
       "      <td>...</td>\n",
       "      <td>18.75</td>\n",
       "      <td>203.9</td>\n",
       "      <td>118</td>\n",
       "      <td>9.18</td>\n",
       "      <td>6.3</td>\n",
       "      <td>6</td>\n",
       "      <td>1.70</td>\n",
       "      <td>0</td>\n",
       "      <td>no</td>\n",
       "      <td>0.0118</td>\n",
       "    </tr>\n",
       "    <tr>\n",
       "      <th>2</th>\n",
       "      <td>3</td>\n",
       "      <td>IA</td>\n",
       "      <td>62</td>\n",
       "      <td>area_code_415</td>\n",
       "      <td>no</td>\n",
       "      <td>no</td>\n",
       "      <td>0</td>\n",
       "      <td>120.7</td>\n",
       "      <td>70</td>\n",
       "      <td>20.52</td>\n",
       "      <td>...</td>\n",
       "      <td>26.11</td>\n",
       "      <td>203.0</td>\n",
       "      <td>99</td>\n",
       "      <td>9.14</td>\n",
       "      <td>13.1</td>\n",
       "      <td>6</td>\n",
       "      <td>3.54</td>\n",
       "      <td>4</td>\n",
       "      <td>yes</td>\n",
       "      <td>0.9180</td>\n",
       "    </tr>\n",
       "    <tr>\n",
       "      <th>3</th>\n",
       "      <td>4</td>\n",
       "      <td>VT</td>\n",
       "      <td>93</td>\n",
       "      <td>area_code_510</td>\n",
       "      <td>no</td>\n",
       "      <td>no</td>\n",
       "      <td>0</td>\n",
       "      <td>190.7</td>\n",
       "      <td>114</td>\n",
       "      <td>32.42</td>\n",
       "      <td>...</td>\n",
       "      <td>18.55</td>\n",
       "      <td>129.6</td>\n",
       "      <td>121</td>\n",
       "      <td>5.83</td>\n",
       "      <td>8.1</td>\n",
       "      <td>3</td>\n",
       "      <td>2.19</td>\n",
       "      <td>3</td>\n",
       "      <td>no</td>\n",
       "      <td>0.0048</td>\n",
       "    </tr>\n",
       "    <tr>\n",
       "      <th>4</th>\n",
       "      <td>5</td>\n",
       "      <td>NE</td>\n",
       "      <td>174</td>\n",
       "      <td>area_code_415</td>\n",
       "      <td>no</td>\n",
       "      <td>no</td>\n",
       "      <td>0</td>\n",
       "      <td>124.3</td>\n",
       "      <td>76</td>\n",
       "      <td>21.13</td>\n",
       "      <td>...</td>\n",
       "      <td>23.55</td>\n",
       "      <td>250.7</td>\n",
       "      <td>115</td>\n",
       "      <td>11.28</td>\n",
       "      <td>15.5</td>\n",
       "      <td>5</td>\n",
       "      <td>4.19</td>\n",
       "      <td>3</td>\n",
       "      <td>no</td>\n",
       "      <td>0.0409</td>\n",
       "    </tr>\n",
       "  </tbody>\n",
       "</table>\n",
       "<p>5 rows × 22 columns</p>\n",
       "</div>"
      ],
      "text/plain": [
       "   id state  account_length      area_code international_plan voice_mail_plan  \\\n",
       "0   1    KS             128  area_code_415                 no             yes   \n",
       "1   2    AL             118  area_code_510                yes              no   \n",
       "2   3    IA              62  area_code_415                 no              no   \n",
       "3   4    VT              93  area_code_510                 no              no   \n",
       "4   5    NE             174  area_code_415                 no              no   \n",
       "\n",
       "   number_vmail_messages  total_day_minutes  total_day_calls  \\\n",
       "0                     25              265.1              110   \n",
       "1                      0              223.4               98   \n",
       "2                      0              120.7               70   \n",
       "3                      0              190.7              114   \n",
       "4                      0              124.3               76   \n",
       "\n",
       "   total_day_charge  ...  total_eve_charge  total_night_minutes  \\\n",
       "0             45.07  ...             16.78                244.7   \n",
       "1             37.98  ...             18.75                203.9   \n",
       "2             20.52  ...             26.11                203.0   \n",
       "3             32.42  ...             18.55                129.6   \n",
       "4             21.13  ...             23.55                250.7   \n",
       "\n",
       "   total_night_calls  total_night_charge  total_intl_minutes  \\\n",
       "0                 91               11.01                10.0   \n",
       "1                118                9.18                 6.3   \n",
       "2                 99                9.14                13.1   \n",
       "3                121                5.83                 8.1   \n",
       "4                115               11.28                15.5   \n",
       "\n",
       "   total_intl_calls  total_intl_charge  number_customer_service_calls  Label  \\\n",
       "0                 3               2.70                              1     no   \n",
       "1                 6               1.70                              0     no   \n",
       "2                 6               3.54                              4    yes   \n",
       "3                 3               2.19                              3     no   \n",
       "4                 5               4.19                              3     no   \n",
       "\n",
       "    Score  \n",
       "0  0.0309  \n",
       "1  0.0118  \n",
       "2  0.9180  \n",
       "3  0.0048  \n",
       "4  0.0409  \n",
       "\n",
       "[5 rows x 22 columns]"
      ]
     },
     "execution_count": 26,
     "metadata": {},
     "output_type": "execute_result"
    }
   ],
   "source": [
    "final = finalize_model(best)\n",
    "unseen_predictions = predict_model(final,probability_threshold=0.5 ,data=test)\n",
    "unseen_predictions.head()"
   ]
  },
  {
   "cell_type": "code",
   "execution_count": 27,
   "metadata": {},
   "outputs": [
    {
     "name": "stdout",
     "output_type": "stream",
     "text": [
      "Transformation Pipeline and Model Succesfully Saved\n"
     ]
    }
   ],
   "source": [
    "save_model(final,'model')"
   ]
  }
 ],
 "metadata": {
  "kernelspec": {
   "display_name": "Python 3",
   "language": "python",
   "name": "python3"
  },
  "language_info": {
   "codemirror_mode": {
    "name": "ipython",
    "version": 3
   },
   "file_extension": ".py",
   "mimetype": "text/x-python",
   "name": "python",
   "nbconvert_exporter": "python",
   "pygments_lexer": "ipython3",
   "version": "3.7.9"
  },
  "toc": {
   "base_numbering": 1,
   "nav_menu": {},
   "number_sections": true,
   "sideBar": true,
   "skip_h1_title": false,
   "title_cell": "Table of Contents",
   "title_sidebar": "Contents",
   "toc_cell": true,
   "toc_position": {
    "height": "662.727px",
    "left": "306px",
    "top": "147.284px",
    "width": "197.273px"
   },
   "toc_section_display": true,
   "toc_window_display": true
  }
 },
 "nbformat": 4,
 "nbformat_minor": 4
}
